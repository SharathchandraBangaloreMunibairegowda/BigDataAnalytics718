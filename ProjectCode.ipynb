{
 "cells": [
  {
   "cell_type": "markdown",
   "metadata": {},
   "source": [
    "# Land Cover Mapping in North Algeria Using Sentinel-2 Data"
   ]
  },
  {
   "cell_type": "markdown",
   "metadata": {},
   "source": [
    "## Members"
   ]
  },
  {
   "cell_type": "markdown",
   "metadata": {},
   "source": [
    "-  Atef Amriche\n",
    "-  Sharathchandra Bangalore Munibaire Gowda\n",
    "-  Narasimha Rejala Shenoy\n",
    "-  Ying Zhou"
   ]
  },
  {
   "cell_type": "markdown",
   "metadata": {},
   "source": [
    "# Introduction"
   ]
  },
  {
   "cell_type": "markdown",
   "metadata": {},
   "source": [
    "Land Cover and Land Use (LCLU) products are used for a wide range of research and development applications including environmental monitoring, natural resources management, urban planning, and socio-economic studies. Scientists and practitioners use various types of remote sensing data, adopt different approaches, and consequently obtain LCLU products with different mapping accuracies. Current research benefits from technological advances and freely available of remote sensing data, and focuses on the development of advanced classification approaches and machine learning algorithms. As such, this project will focus on fine-tuning and optimizing the Land Cover mapping process through the selection of the most accurate and generalizable method. The expected final classification scheme should be able to adapt and obtain high accuracies in different types of study areas (tropical, humid, arid, desert, etc.). This is most important when processing very large datasets (terabytes of satellite imagery) to generate land cover maps at the national, continental, or global scales, where environmental changes are more pronounced.\n"
   ]
  },
  {
   "cell_type": "markdown",
   "metadata": {},
   "source": [
    "## Objectives"
   ]
  },
  {
   "cell_type": "markdown",
   "metadata": {},
   "source": [
    "- Training multiple classifiers for comparison\n",
    "- Testing multiple configurations for each classifier to select the best performing parameters\n",
    "- Run the best classifier and parameters using 100 iterations to generate better performance generalization evaluation.\n",
    "- Use the best classifier to make predictions for larger datasets (>150 M)"
   ]
  },
  {
   "cell_type": "markdown",
   "metadata": {},
   "source": [
    "## Requirements"
   ]
  },
  {
   "cell_type": "markdown",
   "metadata": {},
   "source": [
    "-  Numpy\n",
    "-  Pandas\n",
    "-  Matplotlib\n",
    "-  Pyspark"
   ]
  },
  {
   "cell_type": "markdown",
   "metadata": {},
   "source": [
    "## Code"
   ]
  },
  {
   "cell_type": "markdown",
   "metadata": {},
   "source": [
    "### Importing packages"
   ]
  },
  {
   "cell_type": "code",
   "execution_count": 40,
   "metadata": {
    "collapsed": true
   },
   "outputs": [],
   "source": [
    "#importing numpy\n",
    "import numpy as np\n",
    "#Importing Pandas\n",
    "import pandas as pd\n",
    "#Plotting capability\n",
    "import matplotlib.pylab as plt\n",
    "# Functionality for computing features\n",
    "from pyspark.ml import feature\n",
    "# Object for creating sequences of transformations\n",
    "from pyspark.ml import Pipeline\n",
    "# Load functionality to manipulate dataframes\n",
    "from pyspark.sql import functions as fn\n",
    "from pyspark.ml.evaluation import MulticlassClassificationEvaluator\n",
    "from pyspark.ml.feature import VectorAssembler\n",
    "from pyspark.ml.feature import MaxAbsScaler\n",
    "from pyspark.ml.classification import RandomForestClassifier, LogisticRegression, LinearSVC, OneVsRest, GBTClassifier\n",
    "from pyspark.ml.feature import StringIndexer\n",
    "from pyspark.sql import SparkSession"
   ]
  },
  {
   "cell_type": "markdown",
   "metadata": {},
   "source": [
    "### loading dataframe"
   ]
  },
  {
   "cell_type": "code",
   "execution_count": 41,
   "metadata": {
    "collapsed": true,
    "scrolled": true
   },
   "outputs": [],
   "source": [
    "spark = SparkSession.builder.getOrCreate()\n",
    "sc = spark.sparkContext.setSystemProperty('spark.executor.memory', '512g')\n",
    "df=pd.read_csv(\"Data1.csv\")\n",
    "data = spark.createDataFrame(df)"
   ]
  },
  {
   "cell_type": "markdown",
   "metadata": {},
   "source": [
    "### Data visualization"
   ]
  },
  {
   "cell_type": "markdown",
   "metadata": {},
   "source": [
    "#### Box plots for 9 features"
   ]
  },
  {
   "cell_type": "code",
   "execution_count": 4,
   "metadata": {},
   "outputs": [],
   "source": [
    "plt.style.use('classic')\n",
    "fig, ax = plt.subplots(figsize=(5,  5))\n",
    "df.boxplot(['S2_B1','S2_B4','S2_B2'])\n",
    "fig.savefig('boxplot_features_1.png', dpi=400, bbox_inches='tight')"
   ]
  },
  {
   "cell_type": "code",
   "execution_count": 5,
   "metadata": {},
   "outputs": [],
   "source": [
    "plt.style.use('classic')\n",
    "fig, ax = plt.subplots(figsize=(5,  5))\n",
    "df.boxplot(['ARVI','GEMI','NDVI'])\n",
    "fig.savefig('boxplot_features_2.png', dpi=400, bbox_inches='tight')"
   ]
  },
  {
   "cell_type": "code",
   "execution_count": 6,
   "metadata": {
    "scrolled": true
   },
   "outputs": [],
   "source": [
    "plt.style.use('classic')\n",
    "fig, ax = plt.subplots(figsize=(5,  5))\n",
    "df.boxplot(['3_45_9','5_90_21','15_135_97'])\n",
    "fig.savefig('boxplot_features_3.png', dpi=400, bbox_inches='tight')"
   ]
  },
  {
   "cell_type": "markdown",
   "metadata": {},
   "source": [
    "### Testing Three Classifier "
   ]
  },
  {
   "cell_type": "markdown",
   "metadata": {},
   "source": [
    "#### Radom Forest Classifier"
   ]
  },
  {
   "cell_type": "code",
   "execution_count": 42,
   "metadata": {
    "collapsed": true
   },
   "outputs": [],
   "source": [
    "va = VectorAssembler(inputCols= [\"S2_B1\", \"S2_B2\", \"S2_B4\", \"S2_B11\", \"S2_B12\", \"ARVI\", \"CI\", \"DVI\", \"GEMI\", \"GNDVI\", \"IPVI\", \"IRECI\", \"MCARI\", \"MSAVI\", \"MSAVI2\", \"NDVI\", \"NDWI2\", \"PSSRA\", \"RI\", \"RVI\", \"SAVI\", \"3_45_9\", \"3_90_12\", \"3_90_63\", \"5_90_21\", \"5_90_62\", \"7_90_15\", \"7_45_19\", \"9_180_12\", \"9_45_97\", \"9_90_11\", \"9_90_59\", \"11_135_1\", \"13_90_59\", \"15_135_97\", \"15_45_1\", \"15_45_19\", \"15_45_59\", \"15_45_81\", \"15_90_13\", \"15_90_31\", \"15_90_59\", \"15_90_64\", \"15_180_59\"]\n",
    ", outputCol=\"features\")"
   ]
  },
  {
   "cell_type": "code",
   "execution_count": 8,
   "metadata": {
    "collapsed": true
   },
   "outputs": [],
   "source": [
    "#[\"S2_B1\", \"S2_B2\", \"S2_B4\", \"S2_B11\", \"S2_B12\", \"ARVI\", \"CI\", \"DVI\", \"GEMI\", \"GNDVI\", \"IPVI\", \"IRECI\", \"MCARI\", \"MSAVI\", \"MSAVI2\", \"NDVI\", \"NDWI2\", \"PSSRA\", \"RI\", \"RVI\", \"SAVI\", \"3_45_9\", \"3_90_12\", \"3_90_63\", \"5_90_21\", \"5_90_62\", \"7_90_15\", \"7_45_19\", \"9_180_12\", \"9_45_97\", \"9_90_11\", \"9_90_59\", \"11_135_1\", \"13_90_59\", \"15_135_97\", \"15_45_1\", \"15_45_19\", \"15_45_59\", \"15_45_81\", \"15_90_13\", \"15_90_31\", \"15_90_59\", \"15_90_64\", \"15_180_59\"]"
   ]
  },
  {
   "cell_type": "code",
   "execution_count": 43,
   "metadata": {
    "collapsed": true
   },
   "outputs": [],
   "source": [
    "training_df, validation_df, testing_df = data.randomSplit([0.8, 0.1, 0.1], seed = 100 )"
   ]
  },
  {
   "cell_type": "code",
   "execution_count": 44,
   "metadata": {
    "collapsed": true
   },
   "outputs": [],
   "source": [
    "classification_evaluator = MulticlassClassificationEvaluator(labelCol='Label')\n",
    "classification_evaluator_Acc = MulticlassClassificationEvaluator(labelCol='Label',predictionCol=\"prediction\", metricName=\"accuracy\")"
   ]
  },
  {
   "cell_type": "code",
   "execution_count": 45,
   "metadata": {
    "collapsed": true
   },
   "outputs": [],
   "source": [
    "rf_estimator1 = RandomForestClassifier(featuresCol='features',labelCol='Label',numTrees = 10, maxDepth = 5)\n",
    "rf_estimator11 = RandomForestClassifier(featuresCol='features',labelCol='Label')\n",
    "\n",
    "pipeline_rf1 = Pipeline(stages=[va, rf_estimator1])\n",
    "pipeline_rf11 = Pipeline(stages=[va, rf_estimator11])\n",
    "\n",
    "pipeline_rf_model1 = pipeline_rf1.fit(training_df)\n",
    "pipeline_rf_model11 = pipeline_rf1.fit(training_df)"
   ]
  },
  {
   "cell_type": "code",
   "execution_count": 46,
   "metadata": {},
   "outputs": [
    {
     "name": "stdout",
     "output_type": "stream",
     "text": [
      "(0.6781381093101251, 0.6781381093101251)\n"
     ]
    }
   ],
   "source": [
    "AUC_model1 = classification_evaluator.evaluate(pipeline_rf_model1.transform(validation_df))\n",
    "AUC_model11 = classification_evaluator.evaluate(pipeline_rf_model11.transform(validation_df))\n",
    "\n",
    "print(AUC_model1, AUC_model11)"
   ]
  },
  {
   "cell_type": "code",
   "execution_count": 47,
   "metadata": {},
   "outputs": [
    {
     "data": {
      "text/html": [
       "<div>\n",
       "<style scoped>\n",
       "    .dataframe tbody tr th:only-of-type {\n",
       "        vertical-align: middle;\n",
       "    }\n",
       "\n",
       "    .dataframe tbody tr th {\n",
       "        vertical-align: top;\n",
       "    }\n",
       "\n",
       "    .dataframe thead th {\n",
       "        text-align: right;\n",
       "    }\n",
       "</style>\n",
       "<table border=\"1\" class=\"dataframe\">\n",
       "  <thead>\n",
       "    <tr style=\"text-align: right;\">\n",
       "      <th></th>\n",
       "      <th>feature</th>\n",
       "      <th>importance</th>\n",
       "    </tr>\n",
       "  </thead>\n",
       "  <tbody>\n",
       "    <tr>\n",
       "      <th>10</th>\n",
       "      <td>IPVI</td>\n",
       "      <td>0.149597</td>\n",
       "    </tr>\n",
       "    <tr>\n",
       "      <th>37</th>\n",
       "      <td>15_45_59</td>\n",
       "      <td>0.052799</td>\n",
       "    </tr>\n",
       "    <tr>\n",
       "      <th>34</th>\n",
       "      <td>15_135_97</td>\n",
       "      <td>0.051865</td>\n",
       "    </tr>\n",
       "    <tr>\n",
       "      <th>39</th>\n",
       "      <td>15_90_13</td>\n",
       "      <td>0.048163</td>\n",
       "    </tr>\n",
       "    <tr>\n",
       "      <th>6</th>\n",
       "      <td>CI</td>\n",
       "      <td>0.044674</td>\n",
       "    </tr>\n",
       "    <tr>\n",
       "      <th>16</th>\n",
       "      <td>NDWI2</td>\n",
       "      <td>0.041185</td>\n",
       "    </tr>\n",
       "    <tr>\n",
       "      <th>21</th>\n",
       "      <td>3_45_9</td>\n",
       "      <td>0.039492</td>\n",
       "    </tr>\n",
       "    <tr>\n",
       "      <th>20</th>\n",
       "      <td>SAVI</td>\n",
       "      <td>0.038606</td>\n",
       "    </tr>\n",
       "    <tr>\n",
       "      <th>26</th>\n",
       "      <td>7_90_15</td>\n",
       "      <td>0.036409</td>\n",
       "    </tr>\n",
       "    <tr>\n",
       "      <th>43</th>\n",
       "      <td>15_180_59</td>\n",
       "      <td>0.036323</td>\n",
       "    </tr>\n",
       "    <tr>\n",
       "      <th>3</th>\n",
       "      <td>S2_B11</td>\n",
       "      <td>0.035666</td>\n",
       "    </tr>\n",
       "    <tr>\n",
       "      <th>2</th>\n",
       "      <td>S2_B4</td>\n",
       "      <td>0.035220</td>\n",
       "    </tr>\n",
       "    <tr>\n",
       "      <th>19</th>\n",
       "      <td>RVI</td>\n",
       "      <td>0.035193</td>\n",
       "    </tr>\n",
       "    <tr>\n",
       "      <th>4</th>\n",
       "      <td>S2_B12</td>\n",
       "      <td>0.034165</td>\n",
       "    </tr>\n",
       "    <tr>\n",
       "      <th>41</th>\n",
       "      <td>15_90_59</td>\n",
       "      <td>0.034156</td>\n",
       "    </tr>\n",
       "    <tr>\n",
       "      <th>31</th>\n",
       "      <td>9_90_59</td>\n",
       "      <td>0.031284</td>\n",
       "    </tr>\n",
       "    <tr>\n",
       "      <th>11</th>\n",
       "      <td>IRECI</td>\n",
       "      <td>0.028738</td>\n",
       "    </tr>\n",
       "    <tr>\n",
       "      <th>30</th>\n",
       "      <td>9_90_11</td>\n",
       "      <td>0.025595</td>\n",
       "    </tr>\n",
       "    <tr>\n",
       "      <th>1</th>\n",
       "      <td>S2_B2</td>\n",
       "      <td>0.022251</td>\n",
       "    </tr>\n",
       "    <tr>\n",
       "      <th>0</th>\n",
       "      <td>S2_B1</td>\n",
       "      <td>0.021291</td>\n",
       "    </tr>\n",
       "    <tr>\n",
       "      <th>40</th>\n",
       "      <td>15_90_31</td>\n",
       "      <td>0.019122</td>\n",
       "    </tr>\n",
       "    <tr>\n",
       "      <th>25</th>\n",
       "      <td>5_90_62</td>\n",
       "      <td>0.018142</td>\n",
       "    </tr>\n",
       "    <tr>\n",
       "      <th>23</th>\n",
       "      <td>3_90_63</td>\n",
       "      <td>0.016035</td>\n",
       "    </tr>\n",
       "    <tr>\n",
       "      <th>35</th>\n",
       "      <td>15_45_1</td>\n",
       "      <td>0.011343</td>\n",
       "    </tr>\n",
       "    <tr>\n",
       "      <th>24</th>\n",
       "      <td>5_90_21</td>\n",
       "      <td>0.009463</td>\n",
       "    </tr>\n",
       "    <tr>\n",
       "      <th>32</th>\n",
       "      <td>11_135_1</td>\n",
       "      <td>0.009082</td>\n",
       "    </tr>\n",
       "    <tr>\n",
       "      <th>17</th>\n",
       "      <td>PSSRA</td>\n",
       "      <td>0.008621</td>\n",
       "    </tr>\n",
       "    <tr>\n",
       "      <th>9</th>\n",
       "      <td>GNDVI</td>\n",
       "      <td>0.008582</td>\n",
       "    </tr>\n",
       "    <tr>\n",
       "      <th>27</th>\n",
       "      <td>7_45_19</td>\n",
       "      <td>0.008569</td>\n",
       "    </tr>\n",
       "    <tr>\n",
       "      <th>15</th>\n",
       "      <td>NDVI</td>\n",
       "      <td>0.008528</td>\n",
       "    </tr>\n",
       "    <tr>\n",
       "      <th>5</th>\n",
       "      <td>ARVI</td>\n",
       "      <td>0.008219</td>\n",
       "    </tr>\n",
       "    <tr>\n",
       "      <th>42</th>\n",
       "      <td>15_90_64</td>\n",
       "      <td>0.006267</td>\n",
       "    </tr>\n",
       "    <tr>\n",
       "      <th>33</th>\n",
       "      <td>13_90_59</td>\n",
       "      <td>0.006194</td>\n",
       "    </tr>\n",
       "    <tr>\n",
       "      <th>14</th>\n",
       "      <td>MSAVI2</td>\n",
       "      <td>0.004350</td>\n",
       "    </tr>\n",
       "    <tr>\n",
       "      <th>13</th>\n",
       "      <td>MSAVI</td>\n",
       "      <td>0.004110</td>\n",
       "    </tr>\n",
       "    <tr>\n",
       "      <th>28</th>\n",
       "      <td>9_180_12</td>\n",
       "      <td>0.002314</td>\n",
       "    </tr>\n",
       "    <tr>\n",
       "      <th>22</th>\n",
       "      <td>3_90_12</td>\n",
       "      <td>0.001982</td>\n",
       "    </tr>\n",
       "    <tr>\n",
       "      <th>18</th>\n",
       "      <td>RI</td>\n",
       "      <td>0.001785</td>\n",
       "    </tr>\n",
       "    <tr>\n",
       "      <th>36</th>\n",
       "      <td>15_45_19</td>\n",
       "      <td>0.001542</td>\n",
       "    </tr>\n",
       "    <tr>\n",
       "      <th>8</th>\n",
       "      <td>GEMI</td>\n",
       "      <td>0.001412</td>\n",
       "    </tr>\n",
       "    <tr>\n",
       "      <th>12</th>\n",
       "      <td>MCARI</td>\n",
       "      <td>0.000875</td>\n",
       "    </tr>\n",
       "    <tr>\n",
       "      <th>29</th>\n",
       "      <td>9_45_97</td>\n",
       "      <td>0.000761</td>\n",
       "    </tr>\n",
       "    <tr>\n",
       "      <th>38</th>\n",
       "      <td>15_45_81</td>\n",
       "      <td>0.000032</td>\n",
       "    </tr>\n",
       "    <tr>\n",
       "      <th>7</th>\n",
       "      <td>DVI</td>\n",
       "      <td>0.000000</td>\n",
       "    </tr>\n",
       "  </tbody>\n",
       "</table>\n",
       "</div>"
      ],
      "text/plain": [
       "      feature  importance\n",
       "10       IPVI    0.149597\n",
       "37   15_45_59    0.052799\n",
       "34  15_135_97    0.051865\n",
       "39   15_90_13    0.048163\n",
       "6          CI    0.044674\n",
       "16      NDWI2    0.041185\n",
       "21     3_45_9    0.039492\n",
       "20       SAVI    0.038606\n",
       "26    7_90_15    0.036409\n",
       "43  15_180_59    0.036323\n",
       "3      S2_B11    0.035666\n",
       "2       S2_B4    0.035220\n",
       "19        RVI    0.035193\n",
       "4      S2_B12    0.034165\n",
       "41   15_90_59    0.034156\n",
       "31    9_90_59    0.031284\n",
       "11      IRECI    0.028738\n",
       "30    9_90_11    0.025595\n",
       "1       S2_B2    0.022251\n",
       "0       S2_B1    0.021291\n",
       "40   15_90_31    0.019122\n",
       "25    5_90_62    0.018142\n",
       "23    3_90_63    0.016035\n",
       "35    15_45_1    0.011343\n",
       "24    5_90_21    0.009463\n",
       "32   11_135_1    0.009082\n",
       "17      PSSRA    0.008621\n",
       "9       GNDVI    0.008582\n",
       "27    7_45_19    0.008569\n",
       "15       NDVI    0.008528\n",
       "5        ARVI    0.008219\n",
       "42   15_90_64    0.006267\n",
       "33   13_90_59    0.006194\n",
       "14     MSAVI2    0.004350\n",
       "13      MSAVI    0.004110\n",
       "28   9_180_12    0.002314\n",
       "22    3_90_12    0.001982\n",
       "18         RI    0.001785\n",
       "36   15_45_19    0.001542\n",
       "8        GEMI    0.001412\n",
       "12      MCARI    0.000875\n",
       "29    9_45_97    0.000761\n",
       "38   15_45_81    0.000032\n",
       "7         DVI    0.000000"
      ]
     },
     "execution_count": 47,
     "metadata": {},
     "output_type": "execute_result"
    }
   ],
   "source": [
    "rf_model1 = pipeline_rf_model1.stages[-1]\n",
    "feature_importance1 = pd.DataFrame(list(zip(training_df.columns[0:], rf_model1.featureImportances.toArray())),\n",
    "            columns = ['feature', 'importance']).sort_values('importance', ascending=False)\n",
    "feature_importance1"
   ]
  },
  {
   "cell_type": "code",
   "execution_count": 48,
   "metadata": {
    "collapsed": true
   },
   "outputs": [],
   "source": [
    "predictions1 = pipeline_rf_model1.transform(testing_df)"
   ]
  },
  {
   "cell_type": "code",
   "execution_count": 49,
   "metadata": {
    "scrolled": true
   },
   "outputs": [
    {
     "name": "stdout",
     "output_type": "stream",
     "text": [
      "+----------+-----+--------------------+\n",
      "|prediction|Label|            features|\n",
      "+----------+-----+--------------------+\n",
      "|       1.0|    1|          (44,[],[])|\n",
      "|       1.0|    3|          (44,[],[])|\n",
      "|       1.0|    5|          (44,[],[])|\n",
      "|       7.0|    7|[0.0194,0.023,0.0...|\n",
      "|       2.0|    3|[0.0226,0.0367,0....|\n",
      "+----------+-----+--------------------+\n",
      "only showing top 5 rows\n",
      "\n"
     ]
    }
   ],
   "source": [
    "predictions1.select(\"prediction\", \"Label\", \"features\").show(5)"
   ]
  },
  {
   "cell_type": "code",
   "execution_count": 50,
   "metadata": {},
   "outputs": [
    {
     "name": "stdout",
     "output_type": "stream",
     "text": [
      "Accuracy of RF Model 1 = 0.715789 \n",
      "Area Under Curve of RF Model 1 = 0.704933 \n"
     ]
    }
   ],
   "source": [
    "accuracy1 = classification_evaluator_Acc.evaluate(predictions1)\n",
    "print(\"Accuracy of RF Model 1 = %g \" % accuracy1)\n",
    "AUC_rf1 = classification_evaluator.evaluate(pipeline_rf_model1.transform(testing_df))\n",
    "print(\"Area Under Curve of RF Model 1 = %g \" % AUC_rf1)"
   ]
  },
  {
   "cell_type": "code",
   "execution_count": 51,
   "metadata": {
    "collapsed": true
   },
   "outputs": [],
   "source": [
    "rf_estimator2 = RandomForestClassifier(featuresCol='features',labelCol='Label',numTrees=100, maxDepth=15)\n",
    "pipeline_rf2 = Pipeline(stages=[va, rf_estimator2])\n",
    "pipeline_rf_model2 = pipeline_rf2.fit(training_df)"
   ]
  },
  {
   "cell_type": "code",
   "execution_count": 52,
   "metadata": {
    "scrolled": true
   },
   "outputs": [
    {
     "data": {
      "text/plain": [
       "0.7863614134452444"
      ]
     },
     "execution_count": 52,
     "metadata": {},
     "output_type": "execute_result"
    }
   ],
   "source": [
    "classification_evaluator.evaluate(pipeline_rf_model2.transform(validation_df))"
   ]
  },
  {
   "cell_type": "code",
   "execution_count": 53,
   "metadata": {},
   "outputs": [
    {
     "data": {
      "text/html": [
       "<div>\n",
       "<style scoped>\n",
       "    .dataframe tbody tr th:only-of-type {\n",
       "        vertical-align: middle;\n",
       "    }\n",
       "\n",
       "    .dataframe tbody tr th {\n",
       "        vertical-align: top;\n",
       "    }\n",
       "\n",
       "    .dataframe thead th {\n",
       "        text-align: right;\n",
       "    }\n",
       "</style>\n",
       "<table border=\"1\" class=\"dataframe\">\n",
       "  <thead>\n",
       "    <tr style=\"text-align: right;\">\n",
       "      <th></th>\n",
       "      <th>feature</th>\n",
       "      <th>importance</th>\n",
       "    </tr>\n",
       "  </thead>\n",
       "  <tbody>\n",
       "    <tr>\n",
       "      <th>10</th>\n",
       "      <td>IPVI</td>\n",
       "      <td>0.050511</td>\n",
       "    </tr>\n",
       "    <tr>\n",
       "      <th>5</th>\n",
       "      <td>ARVI</td>\n",
       "      <td>0.037892</td>\n",
       "    </tr>\n",
       "    <tr>\n",
       "      <th>4</th>\n",
       "      <td>S2_B12</td>\n",
       "      <td>0.032641</td>\n",
       "    </tr>\n",
       "    <tr>\n",
       "      <th>15</th>\n",
       "      <td>NDVI</td>\n",
       "      <td>0.032148</td>\n",
       "    </tr>\n",
       "    <tr>\n",
       "      <th>2</th>\n",
       "      <td>S2_B4</td>\n",
       "      <td>0.031326</td>\n",
       "    </tr>\n",
       "    <tr>\n",
       "      <th>0</th>\n",
       "      <td>S2_B1</td>\n",
       "      <td>0.030988</td>\n",
       "    </tr>\n",
       "    <tr>\n",
       "      <th>16</th>\n",
       "      <td>NDWI2</td>\n",
       "      <td>0.030913</td>\n",
       "    </tr>\n",
       "    <tr>\n",
       "      <th>21</th>\n",
       "      <td>3_45_9</td>\n",
       "      <td>0.029462</td>\n",
       "    </tr>\n",
       "    <tr>\n",
       "      <th>6</th>\n",
       "      <td>CI</td>\n",
       "      <td>0.028790</td>\n",
       "    </tr>\n",
       "    <tr>\n",
       "      <th>39</th>\n",
       "      <td>15_90_13</td>\n",
       "      <td>0.027810</td>\n",
       "    </tr>\n",
       "    <tr>\n",
       "      <th>9</th>\n",
       "      <td>GNDVI</td>\n",
       "      <td>0.026926</td>\n",
       "    </tr>\n",
       "    <tr>\n",
       "      <th>19</th>\n",
       "      <td>RVI</td>\n",
       "      <td>0.026128</td>\n",
       "    </tr>\n",
       "    <tr>\n",
       "      <th>1</th>\n",
       "      <td>S2_B2</td>\n",
       "      <td>0.025587</td>\n",
       "    </tr>\n",
       "    <tr>\n",
       "      <th>30</th>\n",
       "      <td>9_90_11</td>\n",
       "      <td>0.025551</td>\n",
       "    </tr>\n",
       "    <tr>\n",
       "      <th>20</th>\n",
       "      <td>SAVI</td>\n",
       "      <td>0.025442</td>\n",
       "    </tr>\n",
       "    <tr>\n",
       "      <th>33</th>\n",
       "      <td>13_90_59</td>\n",
       "      <td>0.024593</td>\n",
       "    </tr>\n",
       "    <tr>\n",
       "      <th>3</th>\n",
       "      <td>S2_B11</td>\n",
       "      <td>0.023662</td>\n",
       "    </tr>\n",
       "    <tr>\n",
       "      <th>40</th>\n",
       "      <td>15_90_31</td>\n",
       "      <td>0.023454</td>\n",
       "    </tr>\n",
       "    <tr>\n",
       "      <th>29</th>\n",
       "      <td>9_45_97</td>\n",
       "      <td>0.022153</td>\n",
       "    </tr>\n",
       "    <tr>\n",
       "      <th>42</th>\n",
       "      <td>15_90_64</td>\n",
       "      <td>0.021551</td>\n",
       "    </tr>\n",
       "    <tr>\n",
       "      <th>32</th>\n",
       "      <td>11_135_1</td>\n",
       "      <td>0.021027</td>\n",
       "    </tr>\n",
       "    <tr>\n",
       "      <th>25</th>\n",
       "      <td>5_90_62</td>\n",
       "      <td>0.020984</td>\n",
       "    </tr>\n",
       "    <tr>\n",
       "      <th>38</th>\n",
       "      <td>15_45_81</td>\n",
       "      <td>0.020907</td>\n",
       "    </tr>\n",
       "    <tr>\n",
       "      <th>28</th>\n",
       "      <td>9_180_12</td>\n",
       "      <td>0.020793</td>\n",
       "    </tr>\n",
       "    <tr>\n",
       "      <th>35</th>\n",
       "      <td>15_45_1</td>\n",
       "      <td>0.020248</td>\n",
       "    </tr>\n",
       "    <tr>\n",
       "      <th>34</th>\n",
       "      <td>15_135_97</td>\n",
       "      <td>0.020182</td>\n",
       "    </tr>\n",
       "    <tr>\n",
       "      <th>27</th>\n",
       "      <td>7_45_19</td>\n",
       "      <td>0.019540</td>\n",
       "    </tr>\n",
       "    <tr>\n",
       "      <th>41</th>\n",
       "      <td>15_90_59</td>\n",
       "      <td>0.019389</td>\n",
       "    </tr>\n",
       "    <tr>\n",
       "      <th>24</th>\n",
       "      <td>5_90_21</td>\n",
       "      <td>0.019246</td>\n",
       "    </tr>\n",
       "    <tr>\n",
       "      <th>17</th>\n",
       "      <td>PSSRA</td>\n",
       "      <td>0.018989</td>\n",
       "    </tr>\n",
       "    <tr>\n",
       "      <th>26</th>\n",
       "      <td>7_90_15</td>\n",
       "      <td>0.018886</td>\n",
       "    </tr>\n",
       "    <tr>\n",
       "      <th>11</th>\n",
       "      <td>IRECI</td>\n",
       "      <td>0.018802</td>\n",
       "    </tr>\n",
       "    <tr>\n",
       "      <th>31</th>\n",
       "      <td>9_90_59</td>\n",
       "      <td>0.018655</td>\n",
       "    </tr>\n",
       "    <tr>\n",
       "      <th>37</th>\n",
       "      <td>15_45_59</td>\n",
       "      <td>0.018103</td>\n",
       "    </tr>\n",
       "    <tr>\n",
       "      <th>18</th>\n",
       "      <td>RI</td>\n",
       "      <td>0.017946</td>\n",
       "    </tr>\n",
       "    <tr>\n",
       "      <th>43</th>\n",
       "      <td>15_180_59</td>\n",
       "      <td>0.016459</td>\n",
       "    </tr>\n",
       "    <tr>\n",
       "      <th>36</th>\n",
       "      <td>15_45_19</td>\n",
       "      <td>0.016413</td>\n",
       "    </tr>\n",
       "    <tr>\n",
       "      <th>13</th>\n",
       "      <td>MSAVI</td>\n",
       "      <td>0.014984</td>\n",
       "    </tr>\n",
       "    <tr>\n",
       "      <th>22</th>\n",
       "      <td>3_90_12</td>\n",
       "      <td>0.014249</td>\n",
       "    </tr>\n",
       "    <tr>\n",
       "      <th>8</th>\n",
       "      <td>GEMI</td>\n",
       "      <td>0.014238</td>\n",
       "    </tr>\n",
       "    <tr>\n",
       "      <th>23</th>\n",
       "      <td>3_90_63</td>\n",
       "      <td>0.013416</td>\n",
       "    </tr>\n",
       "    <tr>\n",
       "      <th>14</th>\n",
       "      <td>MSAVI2</td>\n",
       "      <td>0.013272</td>\n",
       "    </tr>\n",
       "    <tr>\n",
       "      <th>12</th>\n",
       "      <td>MCARI</td>\n",
       "      <td>0.012980</td>\n",
       "    </tr>\n",
       "    <tr>\n",
       "      <th>7</th>\n",
       "      <td>DVI</td>\n",
       "      <td>0.012763</td>\n",
       "    </tr>\n",
       "  </tbody>\n",
       "</table>\n",
       "</div>"
      ],
      "text/plain": [
       "      feature  importance\n",
       "10       IPVI    0.050511\n",
       "5        ARVI    0.037892\n",
       "4      S2_B12    0.032641\n",
       "15       NDVI    0.032148\n",
       "2       S2_B4    0.031326\n",
       "0       S2_B1    0.030988\n",
       "16      NDWI2    0.030913\n",
       "21     3_45_9    0.029462\n",
       "6          CI    0.028790\n",
       "39   15_90_13    0.027810\n",
       "9       GNDVI    0.026926\n",
       "19        RVI    0.026128\n",
       "1       S2_B2    0.025587\n",
       "30    9_90_11    0.025551\n",
       "20       SAVI    0.025442\n",
       "33   13_90_59    0.024593\n",
       "3      S2_B11    0.023662\n",
       "40   15_90_31    0.023454\n",
       "29    9_45_97    0.022153\n",
       "42   15_90_64    0.021551\n",
       "32   11_135_1    0.021027\n",
       "25    5_90_62    0.020984\n",
       "38   15_45_81    0.020907\n",
       "28   9_180_12    0.020793\n",
       "35    15_45_1    0.020248\n",
       "34  15_135_97    0.020182\n",
       "27    7_45_19    0.019540\n",
       "41   15_90_59    0.019389\n",
       "24    5_90_21    0.019246\n",
       "17      PSSRA    0.018989\n",
       "26    7_90_15    0.018886\n",
       "11      IRECI    0.018802\n",
       "31    9_90_59    0.018655\n",
       "37   15_45_59    0.018103\n",
       "18         RI    0.017946\n",
       "43  15_180_59    0.016459\n",
       "36   15_45_19    0.016413\n",
       "13      MSAVI    0.014984\n",
       "22    3_90_12    0.014249\n",
       "8        GEMI    0.014238\n",
       "23    3_90_63    0.013416\n",
       "14     MSAVI2    0.013272\n",
       "12      MCARI    0.012980\n",
       "7         DVI    0.012763"
      ]
     },
     "execution_count": 53,
     "metadata": {},
     "output_type": "execute_result"
    }
   ],
   "source": [
    "rf_model2 = pipeline_rf_model2.stages[-1]\n",
    "feature_importance2 = pd.DataFrame(list(zip(training_df.columns[0:], rf_model2.featureImportances.toArray())),\n",
    "            columns = ['feature', 'importance']).sort_values('importance', ascending=False)\n",
    "feature_importance2"
   ]
  },
  {
   "cell_type": "code",
   "execution_count": 54,
   "metadata": {},
   "outputs": [
    {
     "name": "stdout",
     "output_type": "stream",
     "text": [
      "+----------+-----+--------------------+\n",
      "|prediction|Label|            features|\n",
      "+----------+-----+--------------------+\n",
      "|       5.0|    1|          (44,[],[])|\n",
      "|       5.0|    3|          (44,[],[])|\n",
      "|       5.0|    5|          (44,[],[])|\n",
      "|       7.0|    7|[0.0194,0.023,0.0...|\n",
      "|       2.0|    3|[0.0226,0.0367,0....|\n",
      "+----------+-----+--------------------+\n",
      "only showing top 5 rows\n",
      "\n"
     ]
    }
   ],
   "source": [
    "predictions2 = pipeline_rf_model2.transform(testing_df)\n",
    "predictions2.select(\"prediction\", \"Label\", \"features\").show(5)"
   ]
  },
  {
   "cell_type": "code",
   "execution_count": 55,
   "metadata": {},
   "outputs": [
    {
     "name": "stdout",
     "output_type": "stream",
     "text": [
      "Accuracy of RF Model 2 = 0.729825 \n",
      "Area Under Curve of RF Model 2 = 0.727725 \n"
     ]
    }
   ],
   "source": [
    "accuracy2 = classification_evaluator_Acc.evaluate(predictions2)\n",
    "print(\"Accuracy of RF Model 2 = %g \" % accuracy2)\n",
    "AUC_rf2 = classification_evaluator.evaluate(pipeline_rf_model2.transform(testing_df))\n",
    "print(\"Area Under Curve of RF Model 2 = %g \" % AUC_rf2)"
   ]
  },
  {
   "cell_type": "code",
   "execution_count": 56,
   "metadata": {
    "collapsed": true
   },
   "outputs": [],
   "source": [
    "rf_estimator3 = RandomForestClassifier(featuresCol='features',labelCol='Label',numTrees=200,maxDepth=5)\n",
    "pipeline_rf3 = Pipeline(stages=[va, rf_estimator3])\n",
    "pipeline_rf_model3 = pipeline_rf3.fit(training_df)"
   ]
  },
  {
   "cell_type": "code",
   "execution_count": 57,
   "metadata": {},
   "outputs": [
    {
     "data": {
      "text/plain": [
       "0.7077972578644908"
      ]
     },
     "execution_count": 57,
     "metadata": {},
     "output_type": "execute_result"
    }
   ],
   "source": [
    "classification_evaluator.evaluate(pipeline_rf_model3.transform(validation_df))"
   ]
  },
  {
   "cell_type": "code",
   "execution_count": 58,
   "metadata": {},
   "outputs": [
    {
     "data": {
      "text/html": [
       "<div>\n",
       "<style scoped>\n",
       "    .dataframe tbody tr th:only-of-type {\n",
       "        vertical-align: middle;\n",
       "    }\n",
       "\n",
       "    .dataframe tbody tr th {\n",
       "        vertical-align: top;\n",
       "    }\n",
       "\n",
       "    .dataframe thead th {\n",
       "        text-align: right;\n",
       "    }\n",
       "</style>\n",
       "<table border=\"1\" class=\"dataframe\">\n",
       "  <thead>\n",
       "    <tr style=\"text-align: right;\">\n",
       "      <th></th>\n",
       "      <th>feature</th>\n",
       "      <th>importance</th>\n",
       "    </tr>\n",
       "  </thead>\n",
       "  <tbody>\n",
       "    <tr>\n",
       "      <th>10</th>\n",
       "      <td>IPVI</td>\n",
       "      <td>0.061827</td>\n",
       "    </tr>\n",
       "    <tr>\n",
       "      <th>15</th>\n",
       "      <td>NDVI</td>\n",
       "      <td>0.054314</td>\n",
       "    </tr>\n",
       "    <tr>\n",
       "      <th>5</th>\n",
       "      <td>ARVI</td>\n",
       "      <td>0.051736</td>\n",
       "    </tr>\n",
       "    <tr>\n",
       "      <th>16</th>\n",
       "      <td>NDWI2</td>\n",
       "      <td>0.042010</td>\n",
       "    </tr>\n",
       "    <tr>\n",
       "      <th>19</th>\n",
       "      <td>RVI</td>\n",
       "      <td>0.040672</td>\n",
       "    </tr>\n",
       "    <tr>\n",
       "      <th>6</th>\n",
       "      <td>CI</td>\n",
       "      <td>0.037711</td>\n",
       "    </tr>\n",
       "    <tr>\n",
       "      <th>3</th>\n",
       "      <td>S2_B11</td>\n",
       "      <td>0.035039</td>\n",
       "    </tr>\n",
       "    <tr>\n",
       "      <th>21</th>\n",
       "      <td>3_45_9</td>\n",
       "      <td>0.033897</td>\n",
       "    </tr>\n",
       "    <tr>\n",
       "      <th>17</th>\n",
       "      <td>PSSRA</td>\n",
       "      <td>0.033142</td>\n",
       "    </tr>\n",
       "    <tr>\n",
       "      <th>20</th>\n",
       "      <td>SAVI</td>\n",
       "      <td>0.031787</td>\n",
       "    </tr>\n",
       "    <tr>\n",
       "      <th>2</th>\n",
       "      <td>S2_B4</td>\n",
       "      <td>0.030629</td>\n",
       "    </tr>\n",
       "    <tr>\n",
       "      <th>4</th>\n",
       "      <td>S2_B12</td>\n",
       "      <td>0.030547</td>\n",
       "    </tr>\n",
       "    <tr>\n",
       "      <th>9</th>\n",
       "      <td>GNDVI</td>\n",
       "      <td>0.029246</td>\n",
       "    </tr>\n",
       "    <tr>\n",
       "      <th>30</th>\n",
       "      <td>9_90_11</td>\n",
       "      <td>0.028988</td>\n",
       "    </tr>\n",
       "    <tr>\n",
       "      <th>1</th>\n",
       "      <td>S2_B2</td>\n",
       "      <td>0.026048</td>\n",
       "    </tr>\n",
       "    <tr>\n",
       "      <th>29</th>\n",
       "      <td>9_45_97</td>\n",
       "      <td>0.025716</td>\n",
       "    </tr>\n",
       "    <tr>\n",
       "      <th>39</th>\n",
       "      <td>15_90_13</td>\n",
       "      <td>0.024175</td>\n",
       "    </tr>\n",
       "    <tr>\n",
       "      <th>31</th>\n",
       "      <td>9_90_59</td>\n",
       "      <td>0.023260</td>\n",
       "    </tr>\n",
       "    <tr>\n",
       "      <th>26</th>\n",
       "      <td>7_90_15</td>\n",
       "      <td>0.022874</td>\n",
       "    </tr>\n",
       "    <tr>\n",
       "      <th>33</th>\n",
       "      <td>13_90_59</td>\n",
       "      <td>0.022641</td>\n",
       "    </tr>\n",
       "    <tr>\n",
       "      <th>34</th>\n",
       "      <td>15_135_97</td>\n",
       "      <td>0.022557</td>\n",
       "    </tr>\n",
       "    <tr>\n",
       "      <th>13</th>\n",
       "      <td>MSAVI</td>\n",
       "      <td>0.019006</td>\n",
       "    </tr>\n",
       "    <tr>\n",
       "      <th>41</th>\n",
       "      <td>15_90_59</td>\n",
       "      <td>0.018395</td>\n",
       "    </tr>\n",
       "    <tr>\n",
       "      <th>37</th>\n",
       "      <td>15_45_59</td>\n",
       "      <td>0.017343</td>\n",
       "    </tr>\n",
       "    <tr>\n",
       "      <th>25</th>\n",
       "      <td>5_90_62</td>\n",
       "      <td>0.016976</td>\n",
       "    </tr>\n",
       "    <tr>\n",
       "      <th>40</th>\n",
       "      <td>15_90_31</td>\n",
       "      <td>0.015969</td>\n",
       "    </tr>\n",
       "    <tr>\n",
       "      <th>28</th>\n",
       "      <td>9_180_12</td>\n",
       "      <td>0.015580</td>\n",
       "    </tr>\n",
       "    <tr>\n",
       "      <th>36</th>\n",
       "      <td>15_45_19</td>\n",
       "      <td>0.015543</td>\n",
       "    </tr>\n",
       "    <tr>\n",
       "      <th>11</th>\n",
       "      <td>IRECI</td>\n",
       "      <td>0.014861</td>\n",
       "    </tr>\n",
       "    <tr>\n",
       "      <th>43</th>\n",
       "      <td>15_180_59</td>\n",
       "      <td>0.014326</td>\n",
       "    </tr>\n",
       "    <tr>\n",
       "      <th>0</th>\n",
       "      <td>S2_B1</td>\n",
       "      <td>0.014307</td>\n",
       "    </tr>\n",
       "    <tr>\n",
       "      <th>22</th>\n",
       "      <td>3_90_12</td>\n",
       "      <td>0.013736</td>\n",
       "    </tr>\n",
       "    <tr>\n",
       "      <th>32</th>\n",
       "      <td>11_135_1</td>\n",
       "      <td>0.012864</td>\n",
       "    </tr>\n",
       "    <tr>\n",
       "      <th>27</th>\n",
       "      <td>7_45_19</td>\n",
       "      <td>0.012361</td>\n",
       "    </tr>\n",
       "    <tr>\n",
       "      <th>38</th>\n",
       "      <td>15_45_81</td>\n",
       "      <td>0.012189</td>\n",
       "    </tr>\n",
       "    <tr>\n",
       "      <th>24</th>\n",
       "      <td>5_90_21</td>\n",
       "      <td>0.012048</td>\n",
       "    </tr>\n",
       "    <tr>\n",
       "      <th>14</th>\n",
       "      <td>MSAVI2</td>\n",
       "      <td>0.011424</td>\n",
       "    </tr>\n",
       "    <tr>\n",
       "      <th>35</th>\n",
       "      <td>15_45_1</td>\n",
       "      <td>0.010794</td>\n",
       "    </tr>\n",
       "    <tr>\n",
       "      <th>23</th>\n",
       "      <td>3_90_63</td>\n",
       "      <td>0.010127</td>\n",
       "    </tr>\n",
       "    <tr>\n",
       "      <th>7</th>\n",
       "      <td>DVI</td>\n",
       "      <td>0.009709</td>\n",
       "    </tr>\n",
       "    <tr>\n",
       "      <th>8</th>\n",
       "      <td>GEMI</td>\n",
       "      <td>0.007903</td>\n",
       "    </tr>\n",
       "    <tr>\n",
       "      <th>42</th>\n",
       "      <td>15_90_64</td>\n",
       "      <td>0.007457</td>\n",
       "    </tr>\n",
       "    <tr>\n",
       "      <th>18</th>\n",
       "      <td>RI</td>\n",
       "      <td>0.006637</td>\n",
       "    </tr>\n",
       "    <tr>\n",
       "      <th>12</th>\n",
       "      <td>MCARI</td>\n",
       "      <td>0.001628</td>\n",
       "    </tr>\n",
       "  </tbody>\n",
       "</table>\n",
       "</div>"
      ],
      "text/plain": [
       "      feature  importance\n",
       "10       IPVI    0.061827\n",
       "15       NDVI    0.054314\n",
       "5        ARVI    0.051736\n",
       "16      NDWI2    0.042010\n",
       "19        RVI    0.040672\n",
       "6          CI    0.037711\n",
       "3      S2_B11    0.035039\n",
       "21     3_45_9    0.033897\n",
       "17      PSSRA    0.033142\n",
       "20       SAVI    0.031787\n",
       "2       S2_B4    0.030629\n",
       "4      S2_B12    0.030547\n",
       "9       GNDVI    0.029246\n",
       "30    9_90_11    0.028988\n",
       "1       S2_B2    0.026048\n",
       "29    9_45_97    0.025716\n",
       "39   15_90_13    0.024175\n",
       "31    9_90_59    0.023260\n",
       "26    7_90_15    0.022874\n",
       "33   13_90_59    0.022641\n",
       "34  15_135_97    0.022557\n",
       "13      MSAVI    0.019006\n",
       "41   15_90_59    0.018395\n",
       "37   15_45_59    0.017343\n",
       "25    5_90_62    0.016976\n",
       "40   15_90_31    0.015969\n",
       "28   9_180_12    0.015580\n",
       "36   15_45_19    0.015543\n",
       "11      IRECI    0.014861\n",
       "43  15_180_59    0.014326\n",
       "0       S2_B1    0.014307\n",
       "22    3_90_12    0.013736\n",
       "32   11_135_1    0.012864\n",
       "27    7_45_19    0.012361\n",
       "38   15_45_81    0.012189\n",
       "24    5_90_21    0.012048\n",
       "14     MSAVI2    0.011424\n",
       "35    15_45_1    0.010794\n",
       "23    3_90_63    0.010127\n",
       "7         DVI    0.009709\n",
       "8        GEMI    0.007903\n",
       "42   15_90_64    0.007457\n",
       "18         RI    0.006637\n",
       "12      MCARI    0.001628"
      ]
     },
     "execution_count": 58,
     "metadata": {},
     "output_type": "execute_result"
    }
   ],
   "source": [
    "rf_model3 = pipeline_rf_model3.stages[-1]\n",
    "feature_importance3 = pd.DataFrame(list(zip(training_df.columns[0:], rf_model3.featureImportances.toArray())),\n",
    "            columns = ['feature', 'importance']).sort_values('importance', ascending=False)\n",
    "feature_importance3"
   ]
  },
  {
   "cell_type": "code",
   "execution_count": 59,
   "metadata": {},
   "outputs": [
    {
     "name": "stdout",
     "output_type": "stream",
     "text": [
      "+----------+-----+--------------------+\n",
      "|prediction|Label|            features|\n",
      "+----------+-----+--------------------+\n",
      "|       1.0|    1|          (44,[],[])|\n",
      "|       1.0|    3|          (44,[],[])|\n",
      "|       1.0|    5|          (44,[],[])|\n",
      "|       7.0|    7|[0.0194,0.023,0.0...|\n",
      "|       2.0|    3|[0.0226,0.0367,0....|\n",
      "+----------+-----+--------------------+\n",
      "only showing top 5 rows\n",
      "\n"
     ]
    }
   ],
   "source": [
    "predictions3 = pipeline_rf_model3.transform(testing_df)\n",
    "predictions3.select(\"prediction\", \"Label\", \"features\").show(5)"
   ]
  },
  {
   "cell_type": "code",
   "execution_count": 60,
   "metadata": {},
   "outputs": [
    {
     "name": "stdout",
     "output_type": "stream",
     "text": [
      "Accuracy of RF Model 3 = 0.719298 \n",
      "Area Under Curve of RF Model 3 = 0.707276 \n"
     ]
    }
   ],
   "source": [
    "accuracy3 = classification_evaluator_Acc.evaluate(predictions3)\n",
    "print(\"Accuracy of RF Model 3 = %g \" % accuracy3)\n",
    "AUC_rf3 = classification_evaluator.evaluate(pipeline_rf_model3.transform(testing_df))\n",
    "print(\"Area Under Curve of RF Model 3 = %g \" % AUC_rf3)"
   ]
  },
  {
   "cell_type": "code",
   "execution_count": 61,
   "metadata": {
    "collapsed": true
   },
   "outputs": [],
   "source": [
    "best_rf_model = pipeline_rf_model2"
   ]
  },
  {
   "cell_type": "code",
   "execution_count": 62,
   "metadata": {
    "collapsed": true
   },
   "outputs": [],
   "source": [
    "classification_evaluator_Precision = MulticlassClassificationEvaluator(labelCol='Label',predictionCol=\"prediction\", metricName=\"weightedPrecision\")\n",
    "classification_evaluator_Recall = MulticlassClassificationEvaluator(labelCol='Label',predictionCol=\"prediction\", metricName=\"weightedRecall\")\n",
    "classification_evaluator_F1 = MulticlassClassificationEvaluator(labelCol='Label',predictionCol=\"prediction\", metricName=\"f1\")"
   ]
  },
  {
   "cell_type": "code",
   "execution_count": 63,
   "metadata": {},
   "outputs": [
    {
     "name": "stdout",
     "output_type": "stream",
     "text": [
      "Accuracy of Best RF Model = 0.729825 \n",
      "Area Under Curve of Best RF Model = 0.727725 \n",
      "Precision of Best RF Model = 0.256858 \n",
      "Recall of Best RF Model = 0.729825 \n",
      "F1 score of Best RF Model = 0.727725 \n"
     ]
    }
   ],
   "source": [
    "accuracy_rf_best = classification_evaluator_Acc.evaluate(predictions2)\n",
    "print(\"Accuracy of Best RF Model = %g \" % accuracy_rf_best)\n",
    "AUC_rf_best = classification_evaluator.evaluate(pipeline_rf_model2.transform(testing_df))\n",
    "print(\"Area Under Curve of Best RF Model = %g \" % AUC_rf_best)\n",
    "precision_rf_best = classification_evaluator_Precision.evaluate(predictions2)\n",
    "print(\"Precision of Best RF Model = %g \" % (1.0 - precision_rf_best))\n",
    "recall_rf_best = classification_evaluator_Recall.evaluate(predictions2)\n",
    "print(\"Recall of Best RF Model = %g \" % recall_rf_best)\n",
    "f1_score_best = classification_evaluator_F1.evaluate(predictions2)\n",
    "print(\"F1 score of Best RF Model = %g \" % f1_score_best)"
   ]
  },
  {
   "cell_type": "markdown",
   "metadata": {},
   "source": [
    "Kappa Co-efficient = Po- Pe/1-Pe where Observed Agreement is equivalent to Accuracy and Pe is the expected agreement based on randomly agreeing to what land mass it is classified to. \n",
    "\n",
    "Therefore, k = 0.72-0.3/1-0.3 = 0.6."
   ]
  },
  {
   "cell_type": "markdown",
   "metadata": {},
   "source": [
    "#### Logisitic Regression"
   ]
  },
  {
   "cell_type": "code",
   "execution_count": 64,
   "metadata": {
    "collapsed": true
   },
   "outputs": [],
   "source": [
    "lr =LogisticRegression().\\\n",
    "    setLabelCol('Label').\\\n",
    "    setFeaturesCol('features').\\\n",
    "    setRegParam(0.1).\\\n",
    "    setMaxIter(100).\\\n",
    "    setElasticNetParam(0.01)"
   ]
  },
  {
   "cell_type": "code",
   "execution_count": 65,
   "metadata": {
    "collapsed": true
   },
   "outputs": [],
   "source": [
    "pipeline_lr1 = Pipeline(stages=[va,lr])\n",
    "pipeline_lr1_model = pipeline_lr1.fit(training_df)"
   ]
  },
  {
   "cell_type": "code",
   "execution_count": 66,
   "metadata": {},
   "outputs": [
    {
     "data": {
      "text/plain": [
       "0.6961103812342535"
      ]
     },
     "execution_count": 66,
     "metadata": {},
     "output_type": "execute_result"
    }
   ],
   "source": [
    "classification_evaluator.evaluate(pipeline_lr1_model.transform(validation_df))"
   ]
  },
  {
   "cell_type": "code",
   "execution_count": 67,
   "metadata": {},
   "outputs": [
    {
     "name": "stdout",
     "output_type": "stream",
     "text": [
      "0.675921155456\n"
     ]
    }
   ],
   "source": [
    "AUC_lr1 = classification_evaluator.evaluate(pipeline_lr1_model.transform(testing_df))\n",
    "print(AUC_lr1)"
   ]
  },
  {
   "cell_type": "code",
   "execution_count": 68,
   "metadata": {},
   "outputs": [
    {
     "name": "stdout",
     "output_type": "stream",
     "text": [
      "+----------+-----+--------------------+\n",
      "|prediction|Label|            features|\n",
      "+----------+-----+--------------------+\n",
      "|       1.0|    1|          (44,[],[])|\n",
      "|       1.0|    3|          (44,[],[])|\n",
      "|       1.0|    5|          (44,[],[])|\n",
      "|       7.0|    7|[0.0194,0.023,0.0...|\n",
      "|       7.0|    3|[0.0226,0.0367,0....|\n",
      "+----------+-----+--------------------+\n",
      "only showing top 5 rows\n",
      "\n",
      "Test Error = 0.305263 \n"
     ]
    }
   ],
   "source": [
    "predictions1 = pipeline_lr1_model.transform(testing_df)\n",
    "predictions1.select(\"prediction\", \"Label\", \"features\").show(5)\n",
    "accuracy1 = classification_evaluator_Acc.evaluate(predictions1)\n",
    "print(\"Test Error = %g \" % (1.0 - accuracy1))"
   ]
  },
  {
   "cell_type": "code",
   "execution_count": 69,
   "metadata": {
    "collapsed": true
   },
   "outputs": [],
   "source": [
    "va2 = VectorAssembler(inputCols= [\"ARVI\", \"CI\", \"DVI\", \"GEMI\", \"GNDVI\", \"IPVI\", \"IRECI\", \"MCARI\", \"MSAVI\", \"MSAVI2\", \"NDVI\", \"NDWI2\", \"PSSRA\", \"RI\", \"RVI\", \"SAVI\"],\n",
    "        outputCol=\"features\") "
   ]
  },
  {
   "cell_type": "code",
   "execution_count": 70,
   "metadata": {
    "collapsed": true
   },
   "outputs": [],
   "source": [
    "pipeline_lr2 = Pipeline(stages=[va2,lr])\n",
    "pipeline_lr2_model = pipeline_lr2.fit(training_df)"
   ]
  },
  {
   "cell_type": "code",
   "execution_count": 71,
   "metadata": {},
   "outputs": [
    {
     "data": {
      "text/plain": [
       "0.5397001133397824"
      ]
     },
     "execution_count": 71,
     "metadata": {},
     "output_type": "execute_result"
    }
   ],
   "source": [
    "classification_evaluator.evaluate(pipeline_lr2_model.transform(validation_df))"
   ]
  },
  {
   "cell_type": "code",
   "execution_count": 72,
   "metadata": {},
   "outputs": [
    {
     "name": "stdout",
     "output_type": "stream",
     "text": [
      "0.505956824556\n"
     ]
    }
   ],
   "source": [
    "AUC_lr2 = classification_evaluator.evaluate(pipeline_lr2_model.transform(testing_df))\n",
    "print(AUC_lr2)"
   ]
  },
  {
   "cell_type": "code",
   "execution_count": 73,
   "metadata": {},
   "outputs": [
    {
     "name": "stdout",
     "output_type": "stream",
     "text": [
      "+----------+-----+--------------------+\n",
      "|prediction|Label|            features|\n",
      "+----------+-----+--------------------+\n",
      "|       3.0|    1|          (16,[],[])|\n",
      "|       3.0|    3|          (16,[],[])|\n",
      "|       3.0|    5|          (16,[],[])|\n",
      "|       7.0|    7|[0.76646,-0.06646...|\n",
      "|       2.0|    3|[0.066,0.15145,0....|\n",
      "+----------+-----+--------------------+\n",
      "only showing top 5 rows\n",
      "\n",
      "Test Error = 0.403509 \n"
     ]
    }
   ],
   "source": [
    "predictions2 = pipeline_lr2_model.transform(testing_df)\n",
    "predictions2.select(\"prediction\", \"Label\", \"features\").show(5)\n",
    "accuracy2 = classification_evaluator_Acc.evaluate(predictions2)\n",
    "print(\"Test Error = %g \" % (1.0 - accuracy2))"
   ]
  },
  {
   "cell_type": "code",
   "execution_count": 74,
   "metadata": {
    "collapsed": true
   },
   "outputs": [],
   "source": [
    "va3 = VectorAssembler(inputCols= [\"3_45_9\", \"3_90_12\", \"3_90_63\", \"5_90_21\", \"5_90_62\", \"7_90_15\", \"7_45_19\", \"9_180_12\", \"9_45_97\", \"9_90_11\", \"9_90_59\", \"11_135_1\", \"13_90_59\", \"15_135_97\", \"15_45_1\", \"15_45_19\", \"15_45_59\", \"15_45_81\", \"15_90_13\", \"15_90_31\", \"15_90_59\", \"15_90_64\", \"15_180_59\"]\n",
    ", outputCol=\"features\")\n",
    "pipeline_lr3 = Pipeline(stages=[va3,lr])\n",
    "pipeline_lr3_model = pipeline_lr3.fit(training_df)"
   ]
  },
  {
   "cell_type": "code",
   "execution_count": 75,
   "metadata": {},
   "outputs": [
    {
     "data": {
      "text/plain": [
       "0.571601366358707"
      ]
     },
     "execution_count": 75,
     "metadata": {},
     "output_type": "execute_result"
    }
   ],
   "source": [
    "classification_evaluator.evaluate(pipeline_lr3_model.transform(validation_df))"
   ]
  },
  {
   "cell_type": "code",
   "execution_count": 76,
   "metadata": {},
   "outputs": [
    {
     "name": "stdout",
     "output_type": "stream",
     "text": [
      "0.498516274102\n"
     ]
    }
   ],
   "source": [
    "AUC_lr3 = classification_evaluator.evaluate(pipeline_lr3_model.transform(testing_df))\n",
    "print(AUC_lr3)"
   ]
  },
  {
   "cell_type": "code",
   "execution_count": 77,
   "metadata": {},
   "outputs": [
    {
     "name": "stdout",
     "output_type": "stream",
     "text": [
      "+----------+-----+--------------------+\n",
      "|prediction|Label|            features|\n",
      "+----------+-----+--------------------+\n",
      "|       7.0|    1|          (23,[],[])|\n",
      "|       7.0|    3|          (23,[],[])|\n",
      "|       7.0|    5|          (23,[],[])|\n",
      "|       7.0|    7|[1.88889000000000...|\n",
      "|       7.0|    3|[2.66667,1.44444,...|\n",
      "+----------+-----+--------------------+\n",
      "only showing top 5 rows\n",
      "\n",
      "Test Error = 0.449123 \n"
     ]
    }
   ],
   "source": [
    "predictions3 = pipeline_lr3_model.transform(testing_df)\n",
    "predictions3.select(\"prediction\", \"Label\", \"features\").show(5)\n",
    "accuracy3 = classification_evaluator_Acc.evaluate(predictions3)\n",
    "print(\"Test Error = %g \" % (1.0 - accuracy3))"
   ]
  },
  {
   "cell_type": "markdown",
   "metadata": {},
   "source": [
    "First LR model is good compared to the other models as we have better accuracy for the first model. Also accuracy is good whe we use all the features in the image and not just specific set of features"
   ]
  },
  {
   "cell_type": "markdown",
   "metadata": {},
   "source": [
    "Setting various parameters for the first LR model where all the features are considered and running on the validation and testing datasets"
   ]
  },
  {
   "cell_type": "code",
   "execution_count": 78,
   "metadata": {
    "collapsed": true
   },
   "outputs": [],
   "source": [
    "from pyspark.ml.classification import LogisticRegression\n",
    "alpha1 = 0\n",
    "alpha2 = 0.2\n",
    "alpha3 = 0.4\n",
    "lambda1 = 0\n",
    "lambda2 = 0.02\n",
    "lambda3 = 0.1\n",
    "en_lr1 = LogisticRegression().\\\n",
    "        setLabelCol('Label').\\\n",
    "        setFeaturesCol('features').\\\n",
    "        setRegParam(lambda1).\\\n",
    "        setMaxIter(100).\\\n",
    "        setElasticNetParam(alpha1)\n",
    "        \n",
    "en_lr2 = LogisticRegression().\\\n",
    "        setLabelCol('Label').\\\n",
    "        setFeaturesCol('features').\\\n",
    "        setRegParam(lambda2).\\\n",
    "        setMaxIter(100).\\\n",
    "        setElasticNetParam(alpha2)\n",
    "        \n",
    "en_lr3 = LogisticRegression().\\\n",
    "        setLabelCol('Label').\\\n",
    "        setFeaturesCol('features').\\\n",
    "        setRegParam(lambda3).\\\n",
    "        setMaxIter(100).\\\n",
    "        setElasticNetParam(alpha3)\n",
    "lr_pipeline1_test = Pipeline(stages=[va, en_lr1])\n",
    "lr_pipeline2_test = Pipeline(stages=[va, en_lr2])\n",
    "lr_pipeline3_test = Pipeline(stages=[va, en_lr3])\n",
    "lr_pipeline1 = lr_pipeline1_test.fit(training_df)\n",
    "lr_pipeline2 = lr_pipeline2_test.fit(training_df)\n",
    "lr_pipeline3 = lr_pipeline3_test.fit(training_df)"
   ]
  },
  {
   "cell_type": "code",
   "execution_count": 79,
   "metadata": {},
   "outputs": [
    {
     "data": {
      "text/plain": [
       "0.7608876375771567"
      ]
     },
     "execution_count": 79,
     "metadata": {},
     "output_type": "execute_result"
    }
   ],
   "source": [
    "classification_evaluator.evaluate(lr_pipeline1.transform(validation_df))"
   ]
  },
  {
   "cell_type": "code",
   "execution_count": 80,
   "metadata": {},
   "outputs": [
    {
     "data": {
      "text/plain": [
       "0.7473684210526316"
      ]
     },
     "execution_count": 80,
     "metadata": {},
     "output_type": "execute_result"
    }
   ],
   "source": [
    "accuracy1 = classification_evaluator_Acc.evaluate(lr_pipeline1.transform(testing_df))\n",
    "accuracy1"
   ]
  },
  {
   "cell_type": "code",
   "execution_count": 81,
   "metadata": {},
   "outputs": [
    {
     "data": {
      "text/plain": [
       "0.7436382417340024"
      ]
     },
     "execution_count": 81,
     "metadata": {},
     "output_type": "execute_result"
    }
   ],
   "source": [
    "AUC1 = classification_evaluator.evaluate(lr_pipeline1.transform(testing_df))\n",
    "AUC1"
   ]
  },
  {
   "cell_type": "code",
   "execution_count": 82,
   "metadata": {},
   "outputs": [
    {
     "data": {
      "text/plain": [
       "0.7152866518940785"
      ]
     },
     "execution_count": 82,
     "metadata": {},
     "output_type": "execute_result"
    }
   ],
   "source": [
    "classification_evaluator.evaluate(lr_pipeline2.transform(validation_df))"
   ]
  },
  {
   "cell_type": "code",
   "execution_count": 83,
   "metadata": {},
   "outputs": [
    {
     "data": {
      "text/plain": [
       "0.7017543859649122"
      ]
     },
     "execution_count": 83,
     "metadata": {},
     "output_type": "execute_result"
    }
   ],
   "source": [
    "accuracy2 = classification_evaluator_Acc.evaluate(lr_pipeline2.transform(testing_df))\n",
    "accuracy2"
   ]
  },
  {
   "cell_type": "code",
   "execution_count": 84,
   "metadata": {},
   "outputs": [
    {
     "data": {
      "text/plain": [
       "0.6889362383375792"
      ]
     },
     "execution_count": 84,
     "metadata": {},
     "output_type": "execute_result"
    }
   ],
   "source": [
    "AUC2 = classification_evaluator.evaluate(lr_pipeline2.transform(testing_df))\n",
    "AUC2"
   ]
  },
  {
   "cell_type": "code",
   "execution_count": 85,
   "metadata": {},
   "outputs": [
    {
     "data": {
      "text/plain": [
       "0.5621986632852622"
      ]
     },
     "execution_count": 85,
     "metadata": {},
     "output_type": "execute_result"
    }
   ],
   "source": [
    "classification_evaluator.evaluate(lr_pipeline3.transform(validation_df))"
   ]
  },
  {
   "cell_type": "code",
   "execution_count": 86,
   "metadata": {},
   "outputs": [
    {
     "data": {
      "text/plain": [
       "0.6105263157894737"
      ]
     },
     "execution_count": 86,
     "metadata": {},
     "output_type": "execute_result"
    }
   ],
   "source": [
    "accuracy3 = classification_evaluator_Acc.evaluate(lr_pipeline3.transform(testing_df))\n",
    "accuracy3"
   ]
  },
  {
   "cell_type": "code",
   "execution_count": 87,
   "metadata": {},
   "outputs": [
    {
     "data": {
      "text/plain": [
       "0.5202640726719836"
      ]
     },
     "execution_count": 87,
     "metadata": {},
     "output_type": "execute_result"
    }
   ],
   "source": [
    "AUC3 = classification_evaluator.evaluate(lr_pipeline3.transform(testing_df))\n",
    "AUC3"
   ]
  },
  {
   "cell_type": "code",
   "execution_count": 91,
   "metadata": {
    "collapsed": true
   },
   "outputs": [],
   "source": [
    "classification_evaluator_Precision = MulticlassClassificationEvaluator(labelCol='Label',predictionCol=\"prediction\", metricName=\"weightedPrecision\")\n",
    "classification_evaluator_Recall = MulticlassClassificationEvaluator(labelCol='Label',predictionCol=\"prediction\", metricName=\"weightedRecall\")\n",
    "classification_evaluator_F1 = MulticlassClassificationEvaluator(labelCol='Label',predictionCol=\"prediction\", metricName=\"f1\")"
   ]
  },
  {
   "cell_type": "code",
   "execution_count": 92,
   "metadata": {},
   "outputs": [
    {
     "name": "stdout",
     "output_type": "stream",
     "text": [
      "+----------+-----+--------------------+\n",
      "|prediction|Label|            features|\n",
      "+----------+-----+--------------------+\n",
      "|       1.0|    1|          (44,[],[])|\n",
      "|       1.0|    3|          (44,[],[])|\n",
      "|       1.0|    5|          (44,[],[])|\n",
      "|       7.0|    7|[0.0194,0.023,0.0...|\n",
      "|       2.0|    3|[0.0226,0.0367,0....|\n",
      "+----------+-----+--------------------+\n",
      "only showing top 5 rows\n",
      "\n"
     ]
    }
   ],
   "source": [
    "predictions_best = lr_pipeline1.transform(testing_df)\n",
    "predictions_best.select(\"prediction\", \"Label\", \"features\").show(5)"
   ]
  },
  {
   "cell_type": "code",
   "execution_count": 93,
   "metadata": {},
   "outputs": [
    {
     "name": "stdout",
     "output_type": "stream",
     "text": [
      "Accuracy of Best LR Model = 0.747368 \n",
      "Area Under Curve of Best LR Model = 0.743638 \n",
      "Precision of Best LR Model = 0.245976 \n",
      "Recall of Best LR Model = 0.747368 \n",
      "F1 score of Best LR Model = 0.743638 \n"
     ]
    }
   ],
   "source": [
    "accuracy_lr_best = classification_evaluator_Acc.evaluate(predictions_best)\n",
    "print(\"Accuracy of Best LR Model = %g \" % accuracy_lr_best)\n",
    "AUC_lr_best = classification_evaluator.evaluate(lr_pipeline1.transform(testing_df))\n",
    "print(\"Area Under Curve of Best LR Model = %g \" % AUC_lr_best)\n",
    "precision_lr_best = classification_evaluator_Precision.evaluate(predictions_best)\n",
    "print(\"Precision of Best LR Model = %g \" % (1.0 - precision_lr_best))\n",
    "recall_lr_best = classification_evaluator_Recall.evaluate(predictions_best)\n",
    "print(\"Recall of Best LR Model = %g \" % recall_lr_best)\n",
    "f1_score_best = classification_evaluator_F1.evaluate(predictions_best)\n",
    "print(\"F1 score of Best LR Model = %g \" % f1_score_best)"
   ]
  },
  {
   "cell_type": "markdown",
   "metadata": {},
   "source": [
    "Kappa Co-efficient = Po- Pe/1-Pe where Observed Agreement is equivalent to Accuracy and Pe is the expected agreement based on randomly agreeing to what land mass it is classified to. \n",
    "\n",
    "Therefore, k = 0.72-0.28/1-0.28 = 0.61."
   ]
  },
  {
   "cell_type": "markdown",
   "metadata": {},
   "source": [
    "#### SVM"
   ]
  },
  {
   "cell_type": "code",
   "execution_count": 102,
   "metadata": {},
   "outputs": [],
   "source": [
    "spark = SparkSession.builder.getOrCreate()\n",
    "sc = spark.sparkContext.setSystemProperty('spark.executor.memory', '512g')\n",
    "df=pd.read_csv(\"Data1.csv\")\n",
    "df=df.rename(index=str, columns={\"Label\": \"Class-label\"})\n",
    "data = spark.createDataFrame(df)\n",
    "\n",
    "feature_transformer = VectorAssembler(inputCols= [\"S2_B1\", \"S2_B2\", \"S2_B4\", \"S2_B11\", \"S2_B12\", \"ARVI\", \"CI\", \"DVI\", \"GEMI\", \"GNDVI\", \"IPVI\", \"IRECI\", \"MCARI\", \"MSAVI\", \"MSAVI2\", \"NDVI\", \"NDWI2\", \"PSSRA\", \"RI\", \"RVI\", \"SAVI\", \"3_45_9\", \"3_90_12\", \"3_90_63\", \"5_90_21\", \"5_90_62\", \"7_90_15\", \"7_45_19\", \"9_180_12\", \"9_45_97\", \"9_90_11\", \"9_90_59\", \"11_135_1\", \"13_90_59\", \"15_135_97\", \"15_45_1\", \"15_45_19\", \"15_45_59\", \"15_45_81\", \"15_90_13\", \"15_90_31\", \"15_90_59\", \"15_90_64\", \"15_180_59\"], outputCol=\"features\")\n",
    "labelIndexer = StringIndexer(inputCol=\"Class-label\", outputCol=\"label\").setHandleInvalid(\"keep\")\n",
    "feature_df=feature_transformer.transform(data)\n",
    "data_indexed =labelIndexer.fit(feature_df).transform(feature_df)"
   ]
  },
  {
   "cell_type": "code",
   "execution_count": 103,
   "metadata": {
    "collapsed": true
   },
   "outputs": [],
   "source": [
    "training_df, validation_df, testing_df = data_indexed.randomSplit([0.8, 0.1, 0.1], seed = 100 )"
   ]
  },
  {
   "cell_type": "code",
   "execution_count": 104,
   "metadata": {},
   "outputs": [],
   "source": [
    "svm_estimator = LinearSVC(featuresCol='features',labelCol='label',maxIter=5, regParam=0.01)\n",
    "ovr=OneVsRest(classifier=svm_estimator,labelCol='label').fit(training_df)"
   ]
  },
  {
   "cell_type": "code",
   "execution_count": 105,
   "metadata": {
    "collapsed": true
   },
   "outputs": [],
   "source": [
    "classification_evaluator = MulticlassClassificationEvaluator(labelCol='label')\n",
    "classification_evaluator_Acc = MulticlassClassificationEvaluator(labelCol='label',predictionCol=\"prediction\", metricName=\"accuracy\")\n",
    "#classification_evaluator = MulticlassClassificationEvaluator(labelCol='label')\n",
    "#accuracy=classification_evaluator.evaluate(predictions)\n",
    "#print(accuracy)"
   ]
  },
  {
   "cell_type": "code",
   "execution_count": 106,
   "metadata": {},
   "outputs": [
    {
     "data": {
      "text/plain": [
       "0.4151717341099401"
      ]
     },
     "execution_count": 106,
     "metadata": {},
     "output_type": "execute_result"
    }
   ],
   "source": [
    "classification_evaluator.evaluate(ovr.transform(validation_df))"
   ]
  },
  {
   "cell_type": "code",
   "execution_count": 107,
   "metadata": {},
   "outputs": [
    {
     "data": {
      "text/plain": [
       "0.39864125826634433"
      ]
     },
     "execution_count": 107,
     "metadata": {},
     "output_type": "execute_result"
    }
   ],
   "source": [
    "AUC1 = classification_evaluator.evaluate(ovr.transform(testing_df))\n",
    "AUC1"
   ]
  },
  {
   "cell_type": "code",
   "execution_count": 108,
   "metadata": {},
   "outputs": [
    {
     "data": {
      "text/plain": [
       "0.5087719298245614"
      ]
     },
     "execution_count": 108,
     "metadata": {},
     "output_type": "execute_result"
    }
   ],
   "source": [
    "Accuracy1 = classification_evaluator_Acc.evaluate(ovr.transform(testing_df))\n",
    "Accuracy1"
   ]
  },
  {
   "cell_type": "code",
   "execution_count": 109,
   "metadata": {
    "collapsed": true
   },
   "outputs": [],
   "source": [
    "svm_estimator1 = LinearSVC(featuresCol='features',labelCol='label',maxIter=50, regParam=0.5)\n",
    "ovr1=OneVsRest(classifier=svm_estimator,labelCol='label').fit(training_df)"
   ]
  },
  {
   "cell_type": "code",
   "execution_count": 110,
   "metadata": {},
   "outputs": [
    {
     "data": {
      "text/plain": [
       "0.4151717341099401"
      ]
     },
     "execution_count": 110,
     "metadata": {},
     "output_type": "execute_result"
    }
   ],
   "source": [
    "classification_evaluator.evaluate(ovr1.transform(validation_df))"
   ]
  },
  {
   "cell_type": "code",
   "execution_count": 111,
   "metadata": {},
   "outputs": [
    {
     "data": {
      "text/plain": [
       "0.39864125826634433"
      ]
     },
     "execution_count": 111,
     "metadata": {},
     "output_type": "execute_result"
    }
   ],
   "source": [
    "AUC2 = classification_evaluator.evaluate(ovr1.transform(testing_df))\n",
    "AUC2"
   ]
  },
  {
   "cell_type": "code",
   "execution_count": 112,
   "metadata": {},
   "outputs": [
    {
     "data": {
      "text/plain": [
       "0.5087719298245614"
      ]
     },
     "execution_count": 112,
     "metadata": {},
     "output_type": "execute_result"
    }
   ],
   "source": [
    "Accuracy2 = classification_evaluator_Acc.evaluate(ovr1.transform(testing_df))\n",
    "Accuracy2"
   ]
  },
  {
   "cell_type": "code",
   "execution_count": 113,
   "metadata": {
    "collapsed": true
   },
   "outputs": [],
   "source": [
    "svm_estimator2 = LinearSVC(featuresCol='features',labelCol='label',maxIter=100, regParam=1)\n",
    "ovr2=OneVsRest(classifier=svm_estimator,labelCol='label').fit(training_df)"
   ]
  },
  {
   "cell_type": "code",
   "execution_count": 114,
   "metadata": {},
   "outputs": [
    {
     "data": {
      "text/plain": [
       "0.4151717341099401"
      ]
     },
     "execution_count": 114,
     "metadata": {},
     "output_type": "execute_result"
    }
   ],
   "source": [
    "classification_evaluator.evaluate(ovr2.transform(validation_df))"
   ]
  },
  {
   "cell_type": "code",
   "execution_count": 115,
   "metadata": {},
   "outputs": [
    {
     "data": {
      "text/plain": [
       "0.39864125826634433"
      ]
     },
     "execution_count": 115,
     "metadata": {},
     "output_type": "execute_result"
    }
   ],
   "source": [
    "AUC3 = classification_evaluator.evaluate(ovr2.transform(testing_df))\n",
    "AUC3"
   ]
  },
  {
   "cell_type": "code",
   "execution_count": 116,
   "metadata": {},
   "outputs": [
    {
     "data": {
      "text/plain": [
       "0.5087719298245614"
      ]
     },
     "execution_count": 116,
     "metadata": {},
     "output_type": "execute_result"
    }
   ],
   "source": [
    "Accuracy3 = classification_evaluator_Acc.evaluate(ovr2.transform(testing_df))\n",
    "Accuracy3"
   ]
  },
  {
   "cell_type": "markdown",
   "metadata": {},
   "source": [
    "### The best classifier is random forest."
   ]
  },
  {
   "cell_type": "code",
   "execution_count": 117,
   "metadata": {
    "collapsed": true
   },
   "outputs": [],
   "source": [
    "best_rf_model = pipeline_rf_model2"
   ]
  },
  {
   "cell_type": "markdown",
   "metadata": {},
   "source": [
    "### Running 100 iteration to report best generalization performance"
   ]
  },
  {
   "cell_type": "code",
   "execution_count": null,
   "metadata": {
    "collapsed": true
   },
   "outputs": [],
   "source": [
    "### Best RF model refitted with 90% of data and tested on 10% of data\n",
    "#AUCs = []\n",
    "#for i in range(0,100):\n",
    "#    training_df, testing_df = data.randomSplit([0.9, 0.1], seed = i )\n",
    "#    best_rf_modelX = pipeline_rf2.fit(training_df)\n",
    "#    AUC_rf_bestX = classification_evaluator.evaluate(best_rf_modelX.transform(testing_df))\n",
    "#    AUCs.append(AUC_rf_bestX)\n",
    "    \n",
    "##### ONLY RUN ONCE TO TEST AND VISUALIZE - this process takes some time."
   ]
  },
  {
   "cell_type": "code",
   "execution_count": null,
   "metadata": {
    "collapsed": true
   },
   "outputs": [],
   "source": [
    "#### Generalization performance results from previous step\n",
    "#training_df, testing_df = data.randomSplit([0.9, 0.1], seed = i )\n",
    "#best_rf_modelX = pipeline_rf2.fit(training_df)\n",
    "#AUC_rf_bestX = classification_evaluator.evaluate(best_rf_modelX.transform(testing_df))\n",
    "    \n",
    "#generalization_AUC = sum(AUCs)/len(AUCs)\n",
    "\n",
    "#print('maximum AUC = ', max(AUCs))\n",
    "#print('minimum AUC = ', min(AUCs))\n",
    "#print('generalization AUC (mean of AUCs) = ', generalization_AUC)"
   ]
  },
  {
   "cell_type": "markdown",
   "metadata": {},
   "source": [
    "### Use the best model to make predictions for larger data sets"
   ]
  },
  {
   "cell_type": "code",
   "execution_count": 118,
   "metadata": {},
   "outputs": [
    {
     "name": "stdout",
     "output_type": "stream",
     "text": [
      "Produce predictions to the output.csv file\n"
     ]
    }
   ],
   "source": [
    "df=pd.read_csv('sub1.csv')\n",
    "dfsplit=np.array_split(df,100)\n",
    "\n",
    "n=len(dfsplit[0])\n",
    "data=spark.createDataFrame(dfsplit[0])\n",
    "prediction = best_rf_model.transform(data)\n",
    "df=pd.DataFrame(prediction.select('prediction','Label').take(n),columns=['prediction','Label'])\n",
    "df.to_csv('output.csv',mode='w')\n",
    "\n",
    "for i in range(1,100):\n",
    "    n=len(dfsplit[i])\n",
    "    data=spark.createDataFrame(dfsplit[i])\n",
    "    prediction = best_rf_model.transform(data)\n",
    "    df=pd.DataFrame(prediction.select('prediction','Label').take(n),columns=['prediction','Label'])\n",
    "    df.to_csv('output.csv',mode='a',header=None)\n",
    "    \n",
    "print(\"Produce predictions to the output.csv file\")"
   ]
  },
  {
   "cell_type": "code",
   "execution_count": null,
   "metadata": {
    "collapsed": true
   },
   "outputs": [],
   "source": []
  }
 ],
 "metadata": {
  "kernelspec": {
   "display_name": "Python 2",
   "language": "python",
   "name": "python2"
  },
  "language_info": {
   "codemirror_mode": {
    "name": "ipython",
    "version": 2
   },
   "file_extension": ".py",
   "mimetype": "text/x-python",
   "name": "python",
   "nbconvert_exporter": "python",
   "pygments_lexer": "ipython2",
   "version": "2.7.13"
  }
 },
 "nbformat": 4,
 "nbformat_minor": 2
}
