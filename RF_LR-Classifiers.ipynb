{
 "cells": [
  {
   "cell_type": "code",
   "execution_count": 17,
   "metadata": {},
   "outputs": [],
   "source": [
    "#Importing Pandas\n",
    "import pandas as pd\n",
    "#Plotting capability\n",
    "import matplotlib.pylab as plt\n",
    "# Functionality for computing features\n",
    "from pyspark.ml import feature\n",
    "\n",
    "# Object for creating sequences of transformations\n",
    "from pyspark.ml import Pipeline\n",
    "# Load functionality to manipulate dataframes\n",
    "from pyspark.sql import functions as fn\n",
    "\n",
    "# import packages\n",
    "from pyspark.ml.classification import RandomForestClassifier\n",
    "from pyspark.ml.classification import LogisticRegression\n",
    "from pyspark.ml.evaluation import MulticlassClassificationEvaluator\n",
    "from pyspark.ml.feature import VectorAssembler"
   ]
  },
  {
   "cell_type": "code",
   "execution_count": 18,
   "metadata": {},
   "outputs": [],
   "source": [
    "from pyspark.sql import SparkSession\n",
    "spark = SparkSession.builder.getOrCreate()\n",
    "sc = spark.sparkContext.setSystemProperty('spark.executor.memory', '8192g')"
   ]
  },
  {
   "cell_type": "code",
   "execution_count": 19,
   "metadata": {},
   "outputs": [],
   "source": [
    "data = spark.createDataFrame(pd.read_csv(\"Data1.csv\"))"
   ]
  },
  {
   "cell_type": "markdown",
   "metadata": {},
   "source": [
    "# Radom Forest Classifier"
   ]
  },
  {
   "cell_type": "code",
   "execution_count": 20,
   "metadata": {},
   "outputs": [],
   "source": [
    "va = VectorAssembler(inputCols= [\"S2_B1\", \"S2_B2\", \"S2_B4\", \"S2_B11\", \"S2_B12\", \"ARVI\", \"CI\", \"DVI\", \"GEMI\", \"GNDVI\", \"IPVI\", \"IRECI\", \"MCARI\", \"MSAVI\", \"MSAVI2\", \"NDVI\", \"NDWI2\", \"PSSRA\", \"RI\", \"RVI\", \"SAVI\", \"3_45_9\", \"3_90_12\", \"3_90_63\", \"5_90_21\", \"5_90_62\", \"7_90_15\", \"7_45_19\", \"9_180_12\", \"9_45_97\", \"9_90_11\", \"9_90_59\", \"11_135_1\", \"13_90_59\", \"15_135_97\", \"15_45_1\", \"15_45_19\", \"15_45_59\", \"15_45_81\", \"15_90_13\", \"15_90_31\", \"15_90_59\", \"15_90_64\", \"15_180_59\"]\n",
    ", outputCol=\"features\")"
   ]
  },
  {
   "cell_type": "code",
   "execution_count": 21,
   "metadata": {},
   "outputs": [],
   "source": [
    "#[\"S2_B1\", \"S2_B2\", \"S2_B4\", \"S2_B11\", \"S2_B12\", \"ARVI\", \"CI\", \"DVI\", \"GEMI\", \"GNDVI\", \"IPVI\", \"IRECI\", \"MCARI\", \"MSAVI\", \"MSAVI2\", \"NDVI\", \"NDWI2\", \"PSSRA\", \"RI\", \"RVI\", \"SAVI\", \"3_45_9\", \"3_90_12\", \"3_90_63\", \"5_90_21\", \"5_90_62\", \"7_90_15\", \"7_45_19\", \"9_180_12\", \"9_45_97\", \"9_90_11\", \"9_90_59\", \"11_135_1\", \"13_90_59\", \"15_135_97\", \"15_45_1\", \"15_45_19\", \"15_45_59\", \"15_45_81\", \"15_90_13\", \"15_90_31\", \"15_90_59\", \"15_90_64\", \"15_180_59\"]"
   ]
  },
  {
   "cell_type": "code",
   "execution_count": 22,
   "metadata": {},
   "outputs": [],
   "source": [
    "training_df, validation_df, testing_df = data.randomSplit([0.8, 0.1, 0.1], seed = 100 )"
   ]
  },
  {
   "cell_type": "code",
   "execution_count": 23,
   "metadata": {},
   "outputs": [],
   "source": [
    "classification_evaluator = MulticlassClassificationEvaluator(labelCol='Class-label')\n",
    "classification_evaluator_Acc = MulticlassClassificationEvaluator(labelCol='Class-label',predictionCol=\"prediction\", metricName=\"accuracy\")"
   ]
  },
  {
   "cell_type": "code",
   "execution_count": 24,
   "metadata": {},
   "outputs": [],
   "source": [
    "rf_estimator1 = RandomForestClassifier(featuresCol='features',labelCol='Class-label',numTrees = 10, maxDepth = 5)\n",
    "rf_estimator11 = RandomForestClassifier(featuresCol='features',labelCol='Class-label')\n",
    "\n",
    "pipeline_rf1 = Pipeline(stages=[va, rf_estimator1])\n",
    "pipeline_rf11 = Pipeline(stages=[va, rf_estimator11])\n",
    "\n",
    "pipeline_rf_model1 = pipeline_rf1.fit(training_df)\n",
    "pipeline_rf_model11 = pipeline_rf1.fit(training_df)"
   ]
  },
  {
   "cell_type": "code",
   "execution_count": 9,
   "metadata": {},
   "outputs": [
    {
     "name": "stdout",
     "output_type": "stream",
     "text": [
      "0.7033999423402025 0.7033999423402025\n"
     ]
    }
   ],
   "source": [
    "AUC_model1 = classification_evaluator.evaluate(pipeline_rf_model1.transform(validation_df))\n",
    "AUC_model11 = classification_evaluator.evaluate(pipeline_rf_model11.transform(validation_df))\n",
    "\n",
    "print(AUC_model1, AUC_model11)"
   ]
  },
  {
   "cell_type": "code",
   "execution_count": 10,
   "metadata": {},
   "outputs": [
    {
     "data": {
      "text/html": [
       "<div>\n",
       "<style scoped>\n",
       "    .dataframe tbody tr th:only-of-type {\n",
       "        vertical-align: middle;\n",
       "    }\n",
       "\n",
       "    .dataframe tbody tr th {\n",
       "        vertical-align: top;\n",
       "    }\n",
       "\n",
       "    .dataframe thead th {\n",
       "        text-align: right;\n",
       "    }\n",
       "</style>\n",
       "<table border=\"1\" class=\"dataframe\">\n",
       "  <thead>\n",
       "    <tr style=\"text-align: right;\">\n",
       "      <th></th>\n",
       "      <th>feature</th>\n",
       "      <th>importance</th>\n",
       "    </tr>\n",
       "  </thead>\n",
       "  <tbody>\n",
       "    <tr>\n",
       "      <th>10</th>\n",
       "      <td>IPVI</td>\n",
       "      <td>0.096929</td>\n",
       "    </tr>\n",
       "    <tr>\n",
       "      <th>9</th>\n",
       "      <td>GNDVI</td>\n",
       "      <td>0.082646</td>\n",
       "    </tr>\n",
       "    <tr>\n",
       "      <th>5</th>\n",
       "      <td>ARVI</td>\n",
       "      <td>0.072386</td>\n",
       "    </tr>\n",
       "    <tr>\n",
       "      <th>21</th>\n",
       "      <td>3_45_9</td>\n",
       "      <td>0.058186</td>\n",
       "    </tr>\n",
       "    <tr>\n",
       "      <th>3</th>\n",
       "      <td>S2_B11</td>\n",
       "      <td>0.050944</td>\n",
       "    </tr>\n",
       "    <tr>\n",
       "      <th>4</th>\n",
       "      <td>S2_B12</td>\n",
       "      <td>0.050025</td>\n",
       "    </tr>\n",
       "    <tr>\n",
       "      <th>19</th>\n",
       "      <td>RVI</td>\n",
       "      <td>0.044742</td>\n",
       "    </tr>\n",
       "    <tr>\n",
       "      <th>33</th>\n",
       "      <td>13_90_59</td>\n",
       "      <td>0.043846</td>\n",
       "    </tr>\n",
       "    <tr>\n",
       "      <th>6</th>\n",
       "      <td>CI</td>\n",
       "      <td>0.037463</td>\n",
       "    </tr>\n",
       "    <tr>\n",
       "      <th>13</th>\n",
       "      <td>MSAVI</td>\n",
       "      <td>0.037433</td>\n",
       "    </tr>\n",
       "    <tr>\n",
       "      <th>39</th>\n",
       "      <td>15_90_13</td>\n",
       "      <td>0.033637</td>\n",
       "    </tr>\n",
       "    <tr>\n",
       "      <th>20</th>\n",
       "      <td>SAVI</td>\n",
       "      <td>0.032628</td>\n",
       "    </tr>\n",
       "    <tr>\n",
       "      <th>15</th>\n",
       "      <td>NDVI</td>\n",
       "      <td>0.030445</td>\n",
       "    </tr>\n",
       "    <tr>\n",
       "      <th>37</th>\n",
       "      <td>15_45_59</td>\n",
       "      <td>0.026085</td>\n",
       "    </tr>\n",
       "    <tr>\n",
       "      <th>26</th>\n",
       "      <td>7_90_15</td>\n",
       "      <td>0.024978</td>\n",
       "    </tr>\n",
       "    <tr>\n",
       "      <th>24</th>\n",
       "      <td>5_90_21</td>\n",
       "      <td>0.023961</td>\n",
       "    </tr>\n",
       "    <tr>\n",
       "      <th>25</th>\n",
       "      <td>5_90_62</td>\n",
       "      <td>0.021471</td>\n",
       "    </tr>\n",
       "    <tr>\n",
       "      <th>30</th>\n",
       "      <td>9_90_11</td>\n",
       "      <td>0.017716</td>\n",
       "    </tr>\n",
       "    <tr>\n",
       "      <th>40</th>\n",
       "      <td>15_90_31</td>\n",
       "      <td>0.017654</td>\n",
       "    </tr>\n",
       "    <tr>\n",
       "      <th>35</th>\n",
       "      <td>15_45_1</td>\n",
       "      <td>0.016950</td>\n",
       "    </tr>\n",
       "    <tr>\n",
       "      <th>2</th>\n",
       "      <td>S2_B4</td>\n",
       "      <td>0.016626</td>\n",
       "    </tr>\n",
       "    <tr>\n",
       "      <th>32</th>\n",
       "      <td>11_135_1</td>\n",
       "      <td>0.016438</td>\n",
       "    </tr>\n",
       "    <tr>\n",
       "      <th>31</th>\n",
       "      <td>9_90_59</td>\n",
       "      <td>0.014100</td>\n",
       "    </tr>\n",
       "    <tr>\n",
       "      <th>41</th>\n",
       "      <td>15_90_59</td>\n",
       "      <td>0.012846</td>\n",
       "    </tr>\n",
       "    <tr>\n",
       "      <th>43</th>\n",
       "      <td>15_180_59</td>\n",
       "      <td>0.011014</td>\n",
       "    </tr>\n",
       "    <tr>\n",
       "      <th>22</th>\n",
       "      <td>3_90_12</td>\n",
       "      <td>0.009906</td>\n",
       "    </tr>\n",
       "    <tr>\n",
       "      <th>42</th>\n",
       "      <td>15_90_64</td>\n",
       "      <td>0.009872</td>\n",
       "    </tr>\n",
       "    <tr>\n",
       "      <th>0</th>\n",
       "      <td>S2_B1</td>\n",
       "      <td>0.009136</td>\n",
       "    </tr>\n",
       "    <tr>\n",
       "      <th>1</th>\n",
       "      <td>S2_B2</td>\n",
       "      <td>0.008328</td>\n",
       "    </tr>\n",
       "    <tr>\n",
       "      <th>17</th>\n",
       "      <td>PSSRA</td>\n",
       "      <td>0.008054</td>\n",
       "    </tr>\n",
       "    <tr>\n",
       "      <th>27</th>\n",
       "      <td>7_45_19</td>\n",
       "      <td>0.007911</td>\n",
       "    </tr>\n",
       "    <tr>\n",
       "      <th>28</th>\n",
       "      <td>9_180_12</td>\n",
       "      <td>0.007607</td>\n",
       "    </tr>\n",
       "    <tr>\n",
       "      <th>7</th>\n",
       "      <td>DVI</td>\n",
       "      <td>0.006546</td>\n",
       "    </tr>\n",
       "    <tr>\n",
       "      <th>36</th>\n",
       "      <td>15_45_19</td>\n",
       "      <td>0.006425</td>\n",
       "    </tr>\n",
       "    <tr>\n",
       "      <th>29</th>\n",
       "      <td>9_45_97</td>\n",
       "      <td>0.006191</td>\n",
       "    </tr>\n",
       "    <tr>\n",
       "      <th>16</th>\n",
       "      <td>NDWI2</td>\n",
       "      <td>0.005503</td>\n",
       "    </tr>\n",
       "    <tr>\n",
       "      <th>34</th>\n",
       "      <td>15_135_97</td>\n",
       "      <td>0.004308</td>\n",
       "    </tr>\n",
       "    <tr>\n",
       "      <th>11</th>\n",
       "      <td>IRECI</td>\n",
       "      <td>0.004294</td>\n",
       "    </tr>\n",
       "    <tr>\n",
       "      <th>18</th>\n",
       "      <td>RI</td>\n",
       "      <td>0.003832</td>\n",
       "    </tr>\n",
       "    <tr>\n",
       "      <th>8</th>\n",
       "      <td>GEMI</td>\n",
       "      <td>0.003472</td>\n",
       "    </tr>\n",
       "    <tr>\n",
       "      <th>12</th>\n",
       "      <td>MCARI</td>\n",
       "      <td>0.003133</td>\n",
       "    </tr>\n",
       "    <tr>\n",
       "      <th>14</th>\n",
       "      <td>MSAVI2</td>\n",
       "      <td>0.002473</td>\n",
       "    </tr>\n",
       "    <tr>\n",
       "      <th>38</th>\n",
       "      <td>15_45_81</td>\n",
       "      <td>0.001768</td>\n",
       "    </tr>\n",
       "    <tr>\n",
       "      <th>23</th>\n",
       "      <td>3_90_63</td>\n",
       "      <td>0.000091</td>\n",
       "    </tr>\n",
       "  </tbody>\n",
       "</table>\n",
       "</div>"
      ],
      "text/plain": [
       "      feature  importance\n",
       "10       IPVI    0.096929\n",
       "9       GNDVI    0.082646\n",
       "5        ARVI    0.072386\n",
       "21     3_45_9    0.058186\n",
       "3      S2_B11    0.050944\n",
       "4      S2_B12    0.050025\n",
       "19        RVI    0.044742\n",
       "33   13_90_59    0.043846\n",
       "6          CI    0.037463\n",
       "13      MSAVI    0.037433\n",
       "39   15_90_13    0.033637\n",
       "20       SAVI    0.032628\n",
       "15       NDVI    0.030445\n",
       "37   15_45_59    0.026085\n",
       "26    7_90_15    0.024978\n",
       "24    5_90_21    0.023961\n",
       "25    5_90_62    0.021471\n",
       "30    9_90_11    0.017716\n",
       "40   15_90_31    0.017654\n",
       "35    15_45_1    0.016950\n",
       "2       S2_B4    0.016626\n",
       "32   11_135_1    0.016438\n",
       "31    9_90_59    0.014100\n",
       "41   15_90_59    0.012846\n",
       "43  15_180_59    0.011014\n",
       "22    3_90_12    0.009906\n",
       "42   15_90_64    0.009872\n",
       "0       S2_B1    0.009136\n",
       "1       S2_B2    0.008328\n",
       "17      PSSRA    0.008054\n",
       "27    7_45_19    0.007911\n",
       "28   9_180_12    0.007607\n",
       "7         DVI    0.006546\n",
       "36   15_45_19    0.006425\n",
       "29    9_45_97    0.006191\n",
       "16      NDWI2    0.005503\n",
       "34  15_135_97    0.004308\n",
       "11      IRECI    0.004294\n",
       "18         RI    0.003832\n",
       "8        GEMI    0.003472\n",
       "12      MCARI    0.003133\n",
       "14     MSAVI2    0.002473\n",
       "38   15_45_81    0.001768\n",
       "23    3_90_63    0.000091"
      ]
     },
     "execution_count": 10,
     "metadata": {},
     "output_type": "execute_result"
    }
   ],
   "source": [
    "rf_model1 = pipeline_rf_model1.stages[-1]\n",
    "feature_importance1 = pd.DataFrame(list(zip(training_df.columns[0:], rf_model1.featureImportances.toArray())),\n",
    "            columns = ['feature', 'importance']).sort_values('importance', ascending=False)\n",
    "feature_importance1"
   ]
  },
  {
   "cell_type": "code",
   "execution_count": 11,
   "metadata": {},
   "outputs": [],
   "source": [
    "predictions1 = pipeline_rf_model1.transform(testing_df)"
   ]
  },
  {
   "cell_type": "code",
   "execution_count": 12,
   "metadata": {},
   "outputs": [
    {
     "name": "stdout",
     "output_type": "stream",
     "text": [
      "+----------+-----+--------------------+\n",
      "|prediction|Label|            features|\n",
      "+----------+-----+--------------------+\n",
      "|       1.0|    1|          (44,[],[])|\n",
      "|       1.0|    6|          (44,[],[])|\n",
      "|       1.0|    1|[0.0306,0.0288,0....|\n",
      "|       1.0|    1|[0.0317,0.0263,0....|\n",
      "|       1.0|    1|[0.0327,0.0289999...|\n",
      "+----------+-----+--------------------+\n",
      "only showing top 5 rows\n",
      "\n"
     ]
    }
   ],
   "source": [
    "predictions1.select(\"prediction\", \"Class-label\", \"features\").show(5)"
   ]
  },
  {
   "cell_type": "code",
   "execution_count": 13,
   "metadata": {},
   "outputs": [
    {
     "name": "stdout",
     "output_type": "stream",
     "text": [
      "Accuracy of RF Model 1 = 0.705882 \n",
      "Area Under Curve of RF Model 1 = 0.682263 \n"
     ]
    }
   ],
   "source": [
    "accuracy1 = classification_evaluator_Acc.evaluate(predictions1)\n",
    "print(\"Accuracy of RF Model 1 = %g \" % accuracy1)\n",
    "AUC_rf1 = classification_evaluator.evaluate(pipeline_rf_model1.transform(testing_df))\n",
    "print(\"Area Under Curve of RF Model 1 = %g \" % AUC_rf1)"
   ]
  },
  {
   "cell_type": "code",
   "execution_count": 8,
   "metadata": {},
   "outputs": [],
   "source": [
    "rf_estimator2 = RandomForestClassifier(featuresCol='features',labelCol='Class-label',numTrees=100, maxDepth=15)\n",
    "pipeline_rf2 = Pipeline(stages=[va, rf_estimator2])\n",
    "pipeline_rf_model2 = pipeline_rf2.fit(training_df)"
   ]
  },
  {
   "cell_type": "code",
   "execution_count": 9,
   "metadata": {},
   "outputs": [
    {
     "data": {
      "text/plain": [
       "0.7695719596653222"
      ]
     },
     "execution_count": 9,
     "metadata": {},
     "output_type": "execute_result"
    }
   ],
   "source": [
    "classification_evaluator.evaluate(pipeline_rf_model2.transform(validation_df))"
   ]
  },
  {
   "cell_type": "code",
   "execution_count": 16,
   "metadata": {},
   "outputs": [
    {
     "data": {
      "text/html": [
       "<div>\n",
       "<style scoped>\n",
       "    .dataframe tbody tr th:only-of-type {\n",
       "        vertical-align: middle;\n",
       "    }\n",
       "\n",
       "    .dataframe tbody tr th {\n",
       "        vertical-align: top;\n",
       "    }\n",
       "\n",
       "    .dataframe thead th {\n",
       "        text-align: right;\n",
       "    }\n",
       "</style>\n",
       "<table border=\"1\" class=\"dataframe\">\n",
       "  <thead>\n",
       "    <tr style=\"text-align: right;\">\n",
       "      <th></th>\n",
       "      <th>feature</th>\n",
       "      <th>importance</th>\n",
       "    </tr>\n",
       "  </thead>\n",
       "  <tbody>\n",
       "    <tr>\n",
       "      <th>5</th>\n",
       "      <td>ARVI</td>\n",
       "      <td>0.043151</td>\n",
       "    </tr>\n",
       "    <tr>\n",
       "      <th>10</th>\n",
       "      <td>IPVI</td>\n",
       "      <td>0.042584</td>\n",
       "    </tr>\n",
       "    <tr>\n",
       "      <th>19</th>\n",
       "      <td>RVI</td>\n",
       "      <td>0.035737</td>\n",
       "    </tr>\n",
       "    <tr>\n",
       "      <th>3</th>\n",
       "      <td>S2_B11</td>\n",
       "      <td>0.034268</td>\n",
       "    </tr>\n",
       "    <tr>\n",
       "      <th>6</th>\n",
       "      <td>CI</td>\n",
       "      <td>0.030234</td>\n",
       "    </tr>\n",
       "    <tr>\n",
       "      <th>4</th>\n",
       "      <td>S2_B12</td>\n",
       "      <td>0.029862</td>\n",
       "    </tr>\n",
       "    <tr>\n",
       "      <th>29</th>\n",
       "      <td>9_45_97</td>\n",
       "      <td>0.029690</td>\n",
       "    </tr>\n",
       "    <tr>\n",
       "      <th>0</th>\n",
       "      <td>S2_B1</td>\n",
       "      <td>0.029584</td>\n",
       "    </tr>\n",
       "    <tr>\n",
       "      <th>17</th>\n",
       "      <td>PSSRA</td>\n",
       "      <td>0.028396</td>\n",
       "    </tr>\n",
       "    <tr>\n",
       "      <th>30</th>\n",
       "      <td>9_90_11</td>\n",
       "      <td>0.027953</td>\n",
       "    </tr>\n",
       "    <tr>\n",
       "      <th>25</th>\n",
       "      <td>5_90_62</td>\n",
       "      <td>0.027678</td>\n",
       "    </tr>\n",
       "    <tr>\n",
       "      <th>9</th>\n",
       "      <td>GNDVI</td>\n",
       "      <td>0.027677</td>\n",
       "    </tr>\n",
       "    <tr>\n",
       "      <th>15</th>\n",
       "      <td>NDVI</td>\n",
       "      <td>0.027488</td>\n",
       "    </tr>\n",
       "    <tr>\n",
       "      <th>26</th>\n",
       "      <td>7_90_15</td>\n",
       "      <td>0.026115</td>\n",
       "    </tr>\n",
       "    <tr>\n",
       "      <th>16</th>\n",
       "      <td>NDWI2</td>\n",
       "      <td>0.026109</td>\n",
       "    </tr>\n",
       "    <tr>\n",
       "      <th>2</th>\n",
       "      <td>S2_B4</td>\n",
       "      <td>0.025276</td>\n",
       "    </tr>\n",
       "    <tr>\n",
       "      <th>21</th>\n",
       "      <td>3_45_9</td>\n",
       "      <td>0.024847</td>\n",
       "    </tr>\n",
       "    <tr>\n",
       "      <th>14</th>\n",
       "      <td>MSAVI2</td>\n",
       "      <td>0.023310</td>\n",
       "    </tr>\n",
       "    <tr>\n",
       "      <th>39</th>\n",
       "      <td>15_90_13</td>\n",
       "      <td>0.022307</td>\n",
       "    </tr>\n",
       "    <tr>\n",
       "      <th>13</th>\n",
       "      <td>MSAVI</td>\n",
       "      <td>0.021809</td>\n",
       "    </tr>\n",
       "    <tr>\n",
       "      <th>1</th>\n",
       "      <td>S2_B2</td>\n",
       "      <td>0.021655</td>\n",
       "    </tr>\n",
       "    <tr>\n",
       "      <th>35</th>\n",
       "      <td>15_45_1</td>\n",
       "      <td>0.021521</td>\n",
       "    </tr>\n",
       "    <tr>\n",
       "      <th>36</th>\n",
       "      <td>15_45_19</td>\n",
       "      <td>0.021162</td>\n",
       "    </tr>\n",
       "    <tr>\n",
       "      <th>41</th>\n",
       "      <td>15_90_59</td>\n",
       "      <td>0.020819</td>\n",
       "    </tr>\n",
       "    <tr>\n",
       "      <th>34</th>\n",
       "      <td>15_135_97</td>\n",
       "      <td>0.020636</td>\n",
       "    </tr>\n",
       "    <tr>\n",
       "      <th>32</th>\n",
       "      <td>11_135_1</td>\n",
       "      <td>0.019773</td>\n",
       "    </tr>\n",
       "    <tr>\n",
       "      <th>18</th>\n",
       "      <td>RI</td>\n",
       "      <td>0.018805</td>\n",
       "    </tr>\n",
       "    <tr>\n",
       "      <th>33</th>\n",
       "      <td>13_90_59</td>\n",
       "      <td>0.018624</td>\n",
       "    </tr>\n",
       "    <tr>\n",
       "      <th>42</th>\n",
       "      <td>15_90_64</td>\n",
       "      <td>0.018072</td>\n",
       "    </tr>\n",
       "    <tr>\n",
       "      <th>20</th>\n",
       "      <td>SAVI</td>\n",
       "      <td>0.017473</td>\n",
       "    </tr>\n",
       "    <tr>\n",
       "      <th>24</th>\n",
       "      <td>5_90_21</td>\n",
       "      <td>0.017447</td>\n",
       "    </tr>\n",
       "    <tr>\n",
       "      <th>31</th>\n",
       "      <td>9_90_59</td>\n",
       "      <td>0.017372</td>\n",
       "    </tr>\n",
       "    <tr>\n",
       "      <th>27</th>\n",
       "      <td>7_45_19</td>\n",
       "      <td>0.017195</td>\n",
       "    </tr>\n",
       "    <tr>\n",
       "      <th>28</th>\n",
       "      <td>9_180_12</td>\n",
       "      <td>0.017111</td>\n",
       "    </tr>\n",
       "    <tr>\n",
       "      <th>40</th>\n",
       "      <td>15_90_31</td>\n",
       "      <td>0.016794</td>\n",
       "    </tr>\n",
       "    <tr>\n",
       "      <th>37</th>\n",
       "      <td>15_45_59</td>\n",
       "      <td>0.016593</td>\n",
       "    </tr>\n",
       "    <tr>\n",
       "      <th>11</th>\n",
       "      <td>IRECI</td>\n",
       "      <td>0.015828</td>\n",
       "    </tr>\n",
       "    <tr>\n",
       "      <th>23</th>\n",
       "      <td>3_90_63</td>\n",
       "      <td>0.015709</td>\n",
       "    </tr>\n",
       "    <tr>\n",
       "      <th>43</th>\n",
       "      <td>15_180_59</td>\n",
       "      <td>0.015053</td>\n",
       "    </tr>\n",
       "    <tr>\n",
       "      <th>22</th>\n",
       "      <td>3_90_12</td>\n",
       "      <td>0.014935</td>\n",
       "    </tr>\n",
       "    <tr>\n",
       "      <th>7</th>\n",
       "      <td>DVI</td>\n",
       "      <td>0.014587</td>\n",
       "    </tr>\n",
       "    <tr>\n",
       "      <th>8</th>\n",
       "      <td>GEMI</td>\n",
       "      <td>0.013468</td>\n",
       "    </tr>\n",
       "    <tr>\n",
       "      <th>12</th>\n",
       "      <td>MCARI</td>\n",
       "      <td>0.013053</td>\n",
       "    </tr>\n",
       "    <tr>\n",
       "      <th>38</th>\n",
       "      <td>15_45_81</td>\n",
       "      <td>0.012240</td>\n",
       "    </tr>\n",
       "  </tbody>\n",
       "</table>\n",
       "</div>"
      ],
      "text/plain": [
       "      feature  importance\n",
       "5        ARVI    0.043151\n",
       "10       IPVI    0.042584\n",
       "19        RVI    0.035737\n",
       "3      S2_B11    0.034268\n",
       "6          CI    0.030234\n",
       "4      S2_B12    0.029862\n",
       "29    9_45_97    0.029690\n",
       "0       S2_B1    0.029584\n",
       "17      PSSRA    0.028396\n",
       "30    9_90_11    0.027953\n",
       "25    5_90_62    0.027678\n",
       "9       GNDVI    0.027677\n",
       "15       NDVI    0.027488\n",
       "26    7_90_15    0.026115\n",
       "16      NDWI2    0.026109\n",
       "2       S2_B4    0.025276\n",
       "21     3_45_9    0.024847\n",
       "14     MSAVI2    0.023310\n",
       "39   15_90_13    0.022307\n",
       "13      MSAVI    0.021809\n",
       "1       S2_B2    0.021655\n",
       "35    15_45_1    0.021521\n",
       "36   15_45_19    0.021162\n",
       "41   15_90_59    0.020819\n",
       "34  15_135_97    0.020636\n",
       "32   11_135_1    0.019773\n",
       "18         RI    0.018805\n",
       "33   13_90_59    0.018624\n",
       "42   15_90_64    0.018072\n",
       "20       SAVI    0.017473\n",
       "24    5_90_21    0.017447\n",
       "31    9_90_59    0.017372\n",
       "27    7_45_19    0.017195\n",
       "28   9_180_12    0.017111\n",
       "40   15_90_31    0.016794\n",
       "37   15_45_59    0.016593\n",
       "11      IRECI    0.015828\n",
       "23    3_90_63    0.015709\n",
       "43  15_180_59    0.015053\n",
       "22    3_90_12    0.014935\n",
       "7         DVI    0.014587\n",
       "8        GEMI    0.013468\n",
       "12      MCARI    0.013053\n",
       "38   15_45_81    0.012240"
      ]
     },
     "execution_count": 16,
     "metadata": {},
     "output_type": "execute_result"
    }
   ],
   "source": [
    "rf_model2 = pipeline_rf_model2.stages[-1]\n",
    "feature_importance2 = pd.DataFrame(list(zip(training_df.columns[0:], rf_model2.featureImportances.toArray())),\n",
    "            columns = ['feature', 'importance']).sort_values('importance', ascending=False)\n",
    "feature_importance2"
   ]
  },
  {
   "cell_type": "code",
   "execution_count": 17,
   "metadata": {},
   "outputs": [
    {
     "name": "stdout",
     "output_type": "stream",
     "text": [
      "+----------+-----+--------------------+\n",
      "|prediction|Label|            features|\n",
      "+----------+-----+--------------------+\n",
      "|       1.0|    1|          (44,[],[])|\n",
      "|       1.0|    6|          (44,[],[])|\n",
      "|       1.0|    1|[0.0306,0.0288,0....|\n",
      "|       1.0|    1|[0.0317,0.0263,0....|\n",
      "|       1.0|    1|[0.0327,0.0289999...|\n",
      "+----------+-----+--------------------+\n",
      "only showing top 5 rows\n",
      "\n"
     ]
    }
   ],
   "source": [
    "predictions2 = pipeline_rf_model2.transform(testing_df)\n",
    "predictions2.select(\"prediction\", \"Class-label\", \"features\").show(5)"
   ]
  },
  {
   "cell_type": "code",
   "execution_count": 18,
   "metadata": {},
   "outputs": [
    {
     "name": "stdout",
     "output_type": "stream",
     "text": [
      "Accuracy of RF Model 2 = 0.705882 \n",
      "Area Under Curve of RF Model 2 = 0.697399 \n"
     ]
    }
   ],
   "source": [
    "accuracy2 = classification_evaluator_Acc.evaluate(predictions2)\n",
    "print(\"Accuracy of RF Model 2 = %g \" % accuracy2)\n",
    "AUC_rf2 = classification_evaluator.evaluate(pipeline_rf_model2.transform(testing_df))\n",
    "print(\"Area Under Curve of RF Model 2 = %g \" % AUC_rf2)"
   ]
  },
  {
   "cell_type": "code",
   "execution_count": 20,
   "metadata": {},
   "outputs": [],
   "source": [
    "rf_estimator3 = RandomForestClassifier(featuresCol='features',labelCol='Class-label',numTrees=200,maxDepth=5)\n",
    "pipeline_rf3 = Pipeline(stages=[va, rf_estimator3])\n",
    "pipeline_rf_model3 = pipeline_rf3.fit(training_df)"
   ]
  },
  {
   "cell_type": "code",
   "execution_count": 21,
   "metadata": {},
   "outputs": [
    {
     "data": {
      "text/plain": [
       "0.7165209608272808"
      ]
     },
     "execution_count": 21,
     "metadata": {},
     "output_type": "execute_result"
    }
   ],
   "source": [
    "classification_evaluator.evaluate(pipeline_rf_model3.transform(validation_df))"
   ]
  },
  {
   "cell_type": "code",
   "execution_count": 22,
   "metadata": {},
   "outputs": [
    {
     "data": {
      "text/html": [
       "<div>\n",
       "<style scoped>\n",
       "    .dataframe tbody tr th:only-of-type {\n",
       "        vertical-align: middle;\n",
       "    }\n",
       "\n",
       "    .dataframe tbody tr th {\n",
       "        vertical-align: top;\n",
       "    }\n",
       "\n",
       "    .dataframe thead th {\n",
       "        text-align: right;\n",
       "    }\n",
       "</style>\n",
       "<table border=\"1\" class=\"dataframe\">\n",
       "  <thead>\n",
       "    <tr style=\"text-align: right;\">\n",
       "      <th></th>\n",
       "      <th>feature</th>\n",
       "      <th>importance</th>\n",
       "    </tr>\n",
       "  </thead>\n",
       "  <tbody>\n",
       "    <tr>\n",
       "      <th>10</th>\n",
       "      <td>IPVI</td>\n",
       "      <td>0.062445</td>\n",
       "    </tr>\n",
       "    <tr>\n",
       "      <th>5</th>\n",
       "      <td>ARVI</td>\n",
       "      <td>0.053432</td>\n",
       "    </tr>\n",
       "    <tr>\n",
       "      <th>15</th>\n",
       "      <td>NDVI</td>\n",
       "      <td>0.047937</td>\n",
       "    </tr>\n",
       "    <tr>\n",
       "      <th>19</th>\n",
       "      <td>RVI</td>\n",
       "      <td>0.045647</td>\n",
       "    </tr>\n",
       "    <tr>\n",
       "      <th>9</th>\n",
       "      <td>GNDVI</td>\n",
       "      <td>0.042843</td>\n",
       "    </tr>\n",
       "    <tr>\n",
       "      <th>3</th>\n",
       "      <td>S2_B11</td>\n",
       "      <td>0.037617</td>\n",
       "    </tr>\n",
       "    <tr>\n",
       "      <th>16</th>\n",
       "      <td>NDWI2</td>\n",
       "      <td>0.037348</td>\n",
       "    </tr>\n",
       "    <tr>\n",
       "      <th>4</th>\n",
       "      <td>S2_B12</td>\n",
       "      <td>0.034106</td>\n",
       "    </tr>\n",
       "    <tr>\n",
       "      <th>20</th>\n",
       "      <td>SAVI</td>\n",
       "      <td>0.033767</td>\n",
       "    </tr>\n",
       "    <tr>\n",
       "      <th>2</th>\n",
       "      <td>S2_B4</td>\n",
       "      <td>0.032947</td>\n",
       "    </tr>\n",
       "    <tr>\n",
       "      <th>6</th>\n",
       "      <td>CI</td>\n",
       "      <td>0.032498</td>\n",
       "    </tr>\n",
       "    <tr>\n",
       "      <th>1</th>\n",
       "      <td>S2_B2</td>\n",
       "      <td>0.030005</td>\n",
       "    </tr>\n",
       "    <tr>\n",
       "      <th>17</th>\n",
       "      <td>PSSRA</td>\n",
       "      <td>0.028221</td>\n",
       "    </tr>\n",
       "    <tr>\n",
       "      <th>30</th>\n",
       "      <td>9_90_11</td>\n",
       "      <td>0.026554</td>\n",
       "    </tr>\n",
       "    <tr>\n",
       "      <th>33</th>\n",
       "      <td>13_90_59</td>\n",
       "      <td>0.025691</td>\n",
       "    </tr>\n",
       "    <tr>\n",
       "      <th>21</th>\n",
       "      <td>3_45_9</td>\n",
       "      <td>0.025246</td>\n",
       "    </tr>\n",
       "    <tr>\n",
       "      <th>39</th>\n",
       "      <td>15_90_13</td>\n",
       "      <td>0.024765</td>\n",
       "    </tr>\n",
       "    <tr>\n",
       "      <th>25</th>\n",
       "      <td>5_90_62</td>\n",
       "      <td>0.023825</td>\n",
       "    </tr>\n",
       "    <tr>\n",
       "      <th>13</th>\n",
       "      <td>MSAVI</td>\n",
       "      <td>0.022696</td>\n",
       "    </tr>\n",
       "    <tr>\n",
       "      <th>29</th>\n",
       "      <td>9_45_97</td>\n",
       "      <td>0.021241</td>\n",
       "    </tr>\n",
       "    <tr>\n",
       "      <th>41</th>\n",
       "      <td>15_90_59</td>\n",
       "      <td>0.021139</td>\n",
       "    </tr>\n",
       "    <tr>\n",
       "      <th>34</th>\n",
       "      <td>15_135_97</td>\n",
       "      <td>0.021079</td>\n",
       "    </tr>\n",
       "    <tr>\n",
       "      <th>14</th>\n",
       "      <td>MSAVI2</td>\n",
       "      <td>0.019762</td>\n",
       "    </tr>\n",
       "    <tr>\n",
       "      <th>43</th>\n",
       "      <td>15_180_59</td>\n",
       "      <td>0.018806</td>\n",
       "    </tr>\n",
       "    <tr>\n",
       "      <th>26</th>\n",
       "      <td>7_90_15</td>\n",
       "      <td>0.018035</td>\n",
       "    </tr>\n",
       "    <tr>\n",
       "      <th>24</th>\n",
       "      <td>5_90_21</td>\n",
       "      <td>0.017026</td>\n",
       "    </tr>\n",
       "    <tr>\n",
       "      <th>22</th>\n",
       "      <td>3_90_12</td>\n",
       "      <td>0.016797</td>\n",
       "    </tr>\n",
       "    <tr>\n",
       "      <th>11</th>\n",
       "      <td>IRECI</td>\n",
       "      <td>0.016296</td>\n",
       "    </tr>\n",
       "    <tr>\n",
       "      <th>31</th>\n",
       "      <td>9_90_59</td>\n",
       "      <td>0.015719</td>\n",
       "    </tr>\n",
       "    <tr>\n",
       "      <th>0</th>\n",
       "      <td>S2_B1</td>\n",
       "      <td>0.014095</td>\n",
       "    </tr>\n",
       "    <tr>\n",
       "      <th>27</th>\n",
       "      <td>7_45_19</td>\n",
       "      <td>0.013595</td>\n",
       "    </tr>\n",
       "    <tr>\n",
       "      <th>40</th>\n",
       "      <td>15_90_31</td>\n",
       "      <td>0.013317</td>\n",
       "    </tr>\n",
       "    <tr>\n",
       "      <th>28</th>\n",
       "      <td>9_180_12</td>\n",
       "      <td>0.012070</td>\n",
       "    </tr>\n",
       "    <tr>\n",
       "      <th>32</th>\n",
       "      <td>11_135_1</td>\n",
       "      <td>0.012052</td>\n",
       "    </tr>\n",
       "    <tr>\n",
       "      <th>36</th>\n",
       "      <td>15_45_19</td>\n",
       "      <td>0.011169</td>\n",
       "    </tr>\n",
       "    <tr>\n",
       "      <th>35</th>\n",
       "      <td>15_45_1</td>\n",
       "      <td>0.010577</td>\n",
       "    </tr>\n",
       "    <tr>\n",
       "      <th>37</th>\n",
       "      <td>15_45_59</td>\n",
       "      <td>0.010497</td>\n",
       "    </tr>\n",
       "    <tr>\n",
       "      <th>23</th>\n",
       "      <td>3_90_63</td>\n",
       "      <td>0.009764</td>\n",
       "    </tr>\n",
       "    <tr>\n",
       "      <th>7</th>\n",
       "      <td>DVI</td>\n",
       "      <td>0.008975</td>\n",
       "    </tr>\n",
       "    <tr>\n",
       "      <th>18</th>\n",
       "      <td>RI</td>\n",
       "      <td>0.008670</td>\n",
       "    </tr>\n",
       "    <tr>\n",
       "      <th>38</th>\n",
       "      <td>15_45_81</td>\n",
       "      <td>0.008479</td>\n",
       "    </tr>\n",
       "    <tr>\n",
       "      <th>42</th>\n",
       "      <td>15_90_64</td>\n",
       "      <td>0.007366</td>\n",
       "    </tr>\n",
       "    <tr>\n",
       "      <th>8</th>\n",
       "      <td>GEMI</td>\n",
       "      <td>0.004822</td>\n",
       "    </tr>\n",
       "    <tr>\n",
       "      <th>12</th>\n",
       "      <td>MCARI</td>\n",
       "      <td>0.001062</td>\n",
       "    </tr>\n",
       "  </tbody>\n",
       "</table>\n",
       "</div>"
      ],
      "text/plain": [
       "      feature  importance\n",
       "10       IPVI    0.062445\n",
       "5        ARVI    0.053432\n",
       "15       NDVI    0.047937\n",
       "19        RVI    0.045647\n",
       "9       GNDVI    0.042843\n",
       "3      S2_B11    0.037617\n",
       "16      NDWI2    0.037348\n",
       "4      S2_B12    0.034106\n",
       "20       SAVI    0.033767\n",
       "2       S2_B4    0.032947\n",
       "6          CI    0.032498\n",
       "1       S2_B2    0.030005\n",
       "17      PSSRA    0.028221\n",
       "30    9_90_11    0.026554\n",
       "33   13_90_59    0.025691\n",
       "21     3_45_9    0.025246\n",
       "39   15_90_13    0.024765\n",
       "25    5_90_62    0.023825\n",
       "13      MSAVI    0.022696\n",
       "29    9_45_97    0.021241\n",
       "41   15_90_59    0.021139\n",
       "34  15_135_97    0.021079\n",
       "14     MSAVI2    0.019762\n",
       "43  15_180_59    0.018806\n",
       "26    7_90_15    0.018035\n",
       "24    5_90_21    0.017026\n",
       "22    3_90_12    0.016797\n",
       "11      IRECI    0.016296\n",
       "31    9_90_59    0.015719\n",
       "0       S2_B1    0.014095\n",
       "27    7_45_19    0.013595\n",
       "40   15_90_31    0.013317\n",
       "28   9_180_12    0.012070\n",
       "32   11_135_1    0.012052\n",
       "36   15_45_19    0.011169\n",
       "35    15_45_1    0.010577\n",
       "37   15_45_59    0.010497\n",
       "23    3_90_63    0.009764\n",
       "7         DVI    0.008975\n",
       "18         RI    0.008670\n",
       "38   15_45_81    0.008479\n",
       "42   15_90_64    0.007366\n",
       "8        GEMI    0.004822\n",
       "12      MCARI    0.001062"
      ]
     },
     "execution_count": 22,
     "metadata": {},
     "output_type": "execute_result"
    }
   ],
   "source": [
    "rf_model3 = pipeline_rf_model3.stages[-1]\n",
    "feature_importance3 = pd.DataFrame(list(zip(training_df.columns[0:], rf_model3.featureImportances.toArray())),\n",
    "            columns = ['feature', 'importance']).sort_values('importance', ascending=False)\n",
    "feature_importance3"
   ]
  },
  {
   "cell_type": "code",
   "execution_count": 23,
   "metadata": {},
   "outputs": [
    {
     "name": "stdout",
     "output_type": "stream",
     "text": [
      "+----------+-----+--------------------+\n",
      "|prediction|Label|            features|\n",
      "+----------+-----+--------------------+\n",
      "|       1.0|    1|          (44,[],[])|\n",
      "|       1.0|    6|          (44,[],[])|\n",
      "|       1.0|    1|[0.0306,0.0288,0....|\n",
      "|       1.0|    1|[0.0317,0.0263,0....|\n",
      "|       1.0|    1|[0.0327,0.0289999...|\n",
      "+----------+-----+--------------------+\n",
      "only showing top 5 rows\n",
      "\n"
     ]
    }
   ],
   "source": [
    "predictions3 = pipeline_rf_model3.transform(testing_df)\n",
    "predictions3.select(\"prediction\", \"Class-label\", \"features\").show(5)"
   ]
  },
  {
   "cell_type": "code",
   "execution_count": 24,
   "metadata": {},
   "outputs": [
    {
     "name": "stdout",
     "output_type": "stream",
     "text": [
      "Accuracy of RF Model 3 = 0.705882 \n",
      "Area Under Curve of RF Model 3 = 0.676074 \n"
     ]
    }
   ],
   "source": [
    "accuracy3 = classification_evaluator_Acc.evaluate(predictions3)\n",
    "print(\"Accuracy of RF Model 3 = %g \" % accuracy3)\n",
    "AUC_rf3 = classification_evaluator.evaluate(pipeline_rf_model3.transform(testing_df))\n",
    "print(\"Area Under Curve of RF Model 3 = %g \" % AUC_rf3)"
   ]
  },
  {
   "cell_type": "code",
   "execution_count": 25,
   "metadata": {},
   "outputs": [],
   "source": [
    "best_rf_model = pipeline_rf_model2"
   ]
  },
  {
   "cell_type": "code",
   "execution_count": 26,
   "metadata": {},
   "outputs": [],
   "source": [
    "classification_evaluator_Precision = MulticlassClassificationEvaluator(labelCol='Class-label',predictionCol=\"prediction\", metricName=\"weightedPrecision\")\n",
    "classification_evaluator_Recall = MulticlassClassificationEvaluator(labelCol='Class-label',predictionCol=\"prediction\", metricName=\"weightedRecall\")\n",
    "classification_evaluator_F1 = MulticlassClassificationEvaluator(labelCol='Class-label',predictionCol=\"prediction\", metricName=\"f1\")"
   ]
  },
  {
   "cell_type": "code",
   "execution_count": 27,
   "metadata": {},
   "outputs": [
    {
     "name": "stdout",
     "output_type": "stream",
     "text": [
      "Accuracy of Best RF Model = 0.705882 \n",
      "Area Under Curve of Best RF Model = 0.697399 \n",
      "Precision of Best RF Model = 0.30314 \n",
      "Recall of Best RF Model = 0.705882 \n",
      "F1 score of Best RF Model = 0.697399 \n"
     ]
    }
   ],
   "source": [
    "accuracy_rf_best = classification_evaluator_Acc.evaluate(predictions2)\n",
    "print(\"Accuracy of Best RF Model = %g \" % accuracy_rf_best)\n",
    "AUC_rf_best = classification_evaluator.evaluate(pipeline_rf_model2.transform(testing_df))\n",
    "print(\"Area Under Curve of Best RF Model = %g \" % AUC_rf_best)\n",
    "precision_rf_best = classification_evaluator_Precision.evaluate(predictions2)\n",
    "print(\"Precision of Best RF Model = %g \" % (1.0 - precision_rf_best))\n",
    "recall_rf_best = classification_evaluator_Recall.evaluate(predictions2)\n",
    "print(\"Recall of Best RF Model = %g \" % recall_rf_best)\n",
    "f1_score_best = classification_evaluator_F1.evaluate(predictions2)\n",
    "print(\"F1 score of Best RF Model = %g \" % f1_score_best)"
   ]
  },
  {
   "cell_type": "markdown",
   "metadata": {},
   "source": [
    "Kappa Co-efficient = Po- Pe/1-Pe where Observed Agreement is equivalent to Accuracy and Pe is the expected agreement based on randomly agreeing to what land mass it is classified to. \n",
    "\n",
    "Therefore, k = 0.72-0.3/1-0.3 = 0.6."
   ]
  },
  {
   "cell_type": "code",
   "execution_count": 27,
   "metadata": {},
   "outputs": [],
   "source": [
    "# running 100 iteration to report best generalization performance\n",
    "### Best RF model refitted with 90% of data and tested on 10% of data\n",
    "#AUCs = []\n",
    "#for i in range(0,100):\n",
    "#    training_df, testing_df = data.randomSplit([0.9, 0.1], seed = i )\n",
    "#    best_rf_modelX = pipeline_rf2.fit(training_df)\n",
    "#    AUC_rf_bestX = classification_evaluator.evaluate(best_rf_modelX.transform(testing_df))\n",
    "#    AUCs.append(AUC_rf_bestX)\n",
    "    \n",
    "##### ONLY RUN ONCE TO TEST AND VISUALIZE - this process takes some time."
   ]
  },
  {
   "cell_type": "code",
   "execution_count": 32,
   "metadata": {},
   "outputs": [
    {
     "name": "stdout",
     "output_type": "stream",
     "text": [
      "maximum AUC =  0.7953634540329618\n",
      "minimum AUC =  0.7023372602484644\n",
      "generalization AUC (mean of AUCs) =  0.7520640874603284\n"
     ]
    }
   ],
   "source": [
    "#### Generalization performance results from previous step\n",
    "#training_df, testing_df = data.randomSplit([0.9, 0.1], seed = i )\n",
    "#best_rf_modelX = pipeline_rf2.fit(training_df)\n",
    "#AUC_rf_bestX = classification_evaluator.evaluate(best_rf_modelX.transform(testing_df))\n",
    "    \n",
    "#generalization_AUC = sum(AUCs)/len(AUCs)\n",
    "\n",
    "#print('maximum AUC = ', max(AUCs))\n",
    "#print('minimum AUC = ', min(AUCs))\n",
    "#print('generalization AUC (mean of AUCs) = ', generalization_AUC)"
   ]
  },
  {
   "cell_type": "markdown",
   "metadata": {},
   "source": [
    "# Logisitic Regression"
   ]
  },
  {
   "cell_type": "code",
   "execution_count": 25,
   "metadata": {},
   "outputs": [],
   "source": [
    "lr =LogisticRegression().\\\n",
    "    setLabelCol('Class-label').\\\n",
    "    setFeaturesCol('features').\\\n",
    "    setRegParam(0.1).\\\n",
    "    setMaxIter(100).\\\n",
    "    setElasticNetParam(0.01)"
   ]
  },
  {
   "cell_type": "code",
   "execution_count": 26,
   "metadata": {},
   "outputs": [],
   "source": [
    "pipeline_lr1 = Pipeline(stages=[va,lr])\n",
    "pipeline_lr1_model = pipeline_lr1.fit(training_df)"
   ]
  },
  {
   "cell_type": "code",
   "execution_count": 27,
   "metadata": {},
   "outputs": [
    {
     "data": {
      "text/plain": [
       "0.6807109967127912"
      ]
     },
     "execution_count": 27,
     "metadata": {},
     "output_type": "execute_result"
    }
   ],
   "source": [
    "classification_evaluator.evaluate(pipeline_lr1_model.transform(validation_df))"
   ]
  },
  {
   "cell_type": "code",
   "execution_count": 28,
   "metadata": {},
   "outputs": [
    {
     "name": "stdout",
     "output_type": "stream",
     "text": [
      "0.6787780579877075\n"
     ]
    }
   ],
   "source": [
    "AUC_lr1 = classification_evaluator.evaluate(pipeline_lr1_model.transform(testing_df))\n",
    "print(AUC_lr1)"
   ]
  },
  {
   "cell_type": "code",
   "execution_count": 29,
   "metadata": {},
   "outputs": [
    {
     "name": "stdout",
     "output_type": "stream",
     "text": [
      "+----------+-----------+--------------------+\n",
      "|prediction|Class-label|            features|\n",
      "+----------+-----------+--------------------+\n",
      "|       1.0|          1|          (44,[],[])|\n",
      "|       1.0|          6|          (44,[],[])|\n",
      "|       1.0|          1|[0.0306,0.0288,0....|\n",
      "|       1.0|          1|[0.0317,0.0263,0....|\n",
      "|       1.0|          1|[0.0327,0.0289999...|\n",
      "+----------+-----------+--------------------+\n",
      "only showing top 5 rows\n",
      "\n",
      "Test Error = 0.294118 \n"
     ]
    }
   ],
   "source": [
    "predictions1 = pipeline_lr1_model.transform(testing_df)\n",
    "predictions1.select(\"prediction\", \"Class-label\", \"features\").show(5)\n",
    "accuracy1 = classification_evaluator_Acc.evaluate(predictions1)\n",
    "print(\"Test Error = %g \" % (1.0 - accuracy1))"
   ]
  },
  {
   "cell_type": "code",
   "execution_count": 30,
   "metadata": {},
   "outputs": [],
   "source": [
    "va2 = VectorAssembler(inputCols= [\"ARVI\", \"CI\", \"DVI\", \"GEMI\", \"GNDVI\", \"IPVI\", \"IRECI\", \"MCARI\", \"MSAVI\", \"MSAVI2\", \"NDVI\", \"NDWI2\", \"PSSRA\", \"RI\", \"RVI\", \"SAVI\"],\n",
    "        outputCol=\"features\") "
   ]
  },
  {
   "cell_type": "code",
   "execution_count": 31,
   "metadata": {},
   "outputs": [],
   "source": [
    "pipeline_lr2 = Pipeline(stages=[va2,lr])\n",
    "pipeline_lr2_model = pipeline_lr2.fit(training_df)"
   ]
  },
  {
   "cell_type": "code",
   "execution_count": 32,
   "metadata": {},
   "outputs": [
    {
     "data": {
      "text/plain": [
       "0.5146294486488721"
      ]
     },
     "execution_count": 32,
     "metadata": {},
     "output_type": "execute_result"
    }
   ],
   "source": [
    "classification_evaluator.evaluate(pipeline_lr2_model.transform(validation_df))"
   ]
  },
  {
   "cell_type": "code",
   "execution_count": 33,
   "metadata": {},
   "outputs": [
    {
     "name": "stdout",
     "output_type": "stream",
     "text": [
      "0.5460043696859141\n"
     ]
    }
   ],
   "source": [
    "AUC_lr2 = classification_evaluator.evaluate(pipeline_lr2_model.transform(testing_df))\n",
    "print(AUC_lr2)"
   ]
  },
  {
   "cell_type": "code",
   "execution_count": 34,
   "metadata": {},
   "outputs": [
    {
     "name": "stdout",
     "output_type": "stream",
     "text": [
      "+----------+-----------+--------------------+\n",
      "|prediction|Class-label|            features|\n",
      "+----------+-----------+--------------------+\n",
      "|       3.0|          1|          (16,[],[])|\n",
      "|       3.0|          6|          (16,[],[])|\n",
      "|       1.0|          1|[1.71111,-0.12028...|\n",
      "|       1.0|          1|[0.80392,-0.05119...|\n",
      "|       1.0|          1|[0.70526,-0.07017...|\n",
      "+----------+-----------+--------------------+\n",
      "only showing top 5 rows\n",
      "\n",
      "Test Error = 0.379085 \n"
     ]
    }
   ],
   "source": [
    "predictions2 = pipeline_lr2_model.transform(testing_df)\n",
    "predictions2.select(\"prediction\", \"Class-label\", \"features\").show(5)\n",
    "accuracy2 = classification_evaluator_Acc.evaluate(predictions2)\n",
    "print(\"Test Error = %g \" % (1.0 - accuracy2))"
   ]
  },
  {
   "cell_type": "code",
   "execution_count": 35,
   "metadata": {},
   "outputs": [],
   "source": [
    "va3 = VectorAssembler(inputCols= [\"3_45_9\", \"3_90_12\", \"3_90_63\", \"5_90_21\", \"5_90_62\", \"7_90_15\", \"7_45_19\", \"9_180_12\", \"9_45_97\", \"9_90_11\", \"9_90_59\", \"11_135_1\", \"13_90_59\", \"15_135_97\", \"15_45_1\", \"15_45_19\", \"15_45_59\", \"15_45_81\", \"15_90_13\", \"15_90_31\", \"15_90_59\", \"15_90_64\", \"15_180_59\"]\n",
    ", outputCol=\"features\")\n",
    "pipeline_lr3 = Pipeline(stages=[va3,lr])\n",
    "pipeline_lr3_model = pipeline_lr3.fit(training_df)"
   ]
  },
  {
   "cell_type": "code",
   "execution_count": 36,
   "metadata": {},
   "outputs": [
    {
     "data": {
      "text/plain": [
       "0.572819213211094"
      ]
     },
     "execution_count": 36,
     "metadata": {},
     "output_type": "execute_result"
    }
   ],
   "source": [
    "classification_evaluator.evaluate(pipeline_lr3_model.transform(validation_df))"
   ]
  },
  {
   "cell_type": "code",
   "execution_count": 37,
   "metadata": {},
   "outputs": [
    {
     "name": "stdout",
     "output_type": "stream",
     "text": [
      "0.5483782441001429\n"
     ]
    }
   ],
   "source": [
    "AUC_lr3 = classification_evaluator.evaluate(pipeline_lr3_model.transform(testing_df))\n",
    "print(AUC_lr3)"
   ]
  },
  {
   "cell_type": "code",
   "execution_count": 38,
   "metadata": {},
   "outputs": [
    {
     "name": "stdout",
     "output_type": "stream",
     "text": [
      "+----------+-----------+--------------------+\n",
      "|prediction|Class-label|            features|\n",
      "+----------+-----------+--------------------+\n",
      "|       7.0|          1|          (23,[],[])|\n",
      "|       7.0|          6|          (23,[],[])|\n",
      "|       1.0|          1|[2.0,0.0,1.0,0.0,...|\n",
      "|       1.0|          1|[2.0,0.0,1.0,0.0,...|\n",
      "|       1.0|          1|[2.0,0.0,1.0,0.0,...|\n",
      "+----------+-----------+--------------------+\n",
      "only showing top 5 rows\n",
      "\n",
      "Test Error = 0.405229 \n"
     ]
    }
   ],
   "source": [
    "predictions3 = pipeline_lr3_model.transform(testing_df)\n",
    "predictions3.select(\"prediction\", \"Class-label\", \"features\").show(5)\n",
    "accuracy3 = classification_evaluator_Acc.evaluate(predictions3)\n",
    "print(\"Test Error = %g \" % (1.0 - accuracy3))"
   ]
  },
  {
   "cell_type": "markdown",
   "metadata": {},
   "source": [
    "First LR model is good compared to the other models as we have better accuracy for the first model. Also accuracy is good whe we use all the features in the image and not just specific set of features"
   ]
  },
  {
   "cell_type": "markdown",
   "metadata": {},
   "source": [
    "Setting various parameters for the first LR model where all the features are considered and running on the validation and testing datasets"
   ]
  },
  {
   "cell_type": "code",
   "execution_count": 39,
   "metadata": {},
   "outputs": [],
   "source": [
    "from pyspark.ml.classification import LogisticRegression\n",
    "alpha1 = 0\n",
    "alpha2 = 0.2\n",
    "alpha3 = 0.4\n",
    "lambda1 = 0\n",
    "lambda2 = 0.02\n",
    "lambda3 = 0.1\n",
    "en_lr1 = LogisticRegression().\\\n",
    "        setLabelCol('Class-label').\\\n",
    "        setFeaturesCol('features').\\\n",
    "        setRegParam(lambda1).\\\n",
    "        setMaxIter(100).\\\n",
    "        setElasticNetParam(alpha1)\n",
    "        \n",
    "en_lr2 = LogisticRegression().\\\n",
    "        setLabelCol('Class-label').\\\n",
    "        setFeaturesCol('features').\\\n",
    "        setRegParam(lambda2).\\\n",
    "        setMaxIter(100).\\\n",
    "        setElasticNetParam(alpha2)\n",
    "        \n",
    "en_lr3 = LogisticRegression().\\\n",
    "        setLabelCol('Class-label').\\\n",
    "        setFeaturesCol('features').\\\n",
    "        setRegParam(lambda3).\\\n",
    "        setMaxIter(100).\\\n",
    "        setElasticNetParam(alpha3)\n",
    "lr_pipeline1_test = Pipeline(stages=[va, en_lr1])\n",
    "lr_pipeline2_test = Pipeline(stages=[va, en_lr2])\n",
    "lr_pipeline3_test = Pipeline(stages=[va, en_lr3])\n",
    "lr_pipeline1 = lr_pipeline1_test.fit(training_df)\n",
    "lr_pipeline2 = lr_pipeline2_test.fit(training_df)\n",
    "lr_pipeline3 = lr_pipeline3_test.fit(training_df)"
   ]
  },
  {
   "cell_type": "code",
   "execution_count": 40,
   "metadata": {},
   "outputs": [
    {
     "data": {
      "text/plain": [
       "0.7507143202439243"
      ]
     },
     "execution_count": 40,
     "metadata": {},
     "output_type": "execute_result"
    }
   ],
   "source": [
    "classification_evaluator.evaluate(lr_pipeline1.transform(validation_df))"
   ]
  },
  {
   "cell_type": "code",
   "execution_count": 41,
   "metadata": {},
   "outputs": [
    {
     "data": {
      "text/plain": [
       "0.7189542483660131"
      ]
     },
     "execution_count": 41,
     "metadata": {},
     "output_type": "execute_result"
    }
   ],
   "source": [
    "accuracy1 = classification_evaluator_Acc.evaluate(lr_pipeline1.transform(testing_df))\n",
    "accuracy1"
   ]
  },
  {
   "cell_type": "code",
   "execution_count": 42,
   "metadata": {},
   "outputs": [
    {
     "data": {
      "text/plain": [
       "0.7133087736584662"
      ]
     },
     "execution_count": 42,
     "metadata": {},
     "output_type": "execute_result"
    }
   ],
   "source": [
    "AUC1 = classification_evaluator.evaluate(lr_pipeline1.transform(testing_df))\n",
    "AUC1"
   ]
  },
  {
   "cell_type": "code",
   "execution_count": 43,
   "metadata": {},
   "outputs": [
    {
     "data": {
      "text/plain": [
       "0.7127857219333914"
      ]
     },
     "execution_count": 43,
     "metadata": {},
     "output_type": "execute_result"
    }
   ],
   "source": [
    "classification_evaluator.evaluate(lr_pipeline2.transform(validation_df))"
   ]
  },
  {
   "cell_type": "code",
   "execution_count": 44,
   "metadata": {},
   "outputs": [
    {
     "data": {
      "text/plain": [
       "0.7124183006535948"
      ]
     },
     "execution_count": 44,
     "metadata": {},
     "output_type": "execute_result"
    }
   ],
   "source": [
    "accuracy2 = classification_evaluator_Acc.evaluate(lr_pipeline2.transform(testing_df))\n",
    "accuracy2"
   ]
  },
  {
   "cell_type": "code",
   "execution_count": 45,
   "metadata": {},
   "outputs": [
    {
     "data": {
      "text/plain": [
       "0.6955220558502954"
      ]
     },
     "execution_count": 45,
     "metadata": {},
     "output_type": "execute_result"
    }
   ],
   "source": [
    "AUC2 = classification_evaluator.evaluate(lr_pipeline2.transform(testing_df))\n",
    "AUC2"
   ]
  },
  {
   "cell_type": "code",
   "execution_count": 46,
   "metadata": {},
   "outputs": [
    {
     "data": {
      "text/plain": [
       "0.5308857781552391"
      ]
     },
     "execution_count": 46,
     "metadata": {},
     "output_type": "execute_result"
    }
   ],
   "source": [
    "classification_evaluator.evaluate(lr_pipeline3.transform(validation_df))"
   ]
  },
  {
   "cell_type": "code",
   "execution_count": 47,
   "metadata": {},
   "outputs": [
    {
     "data": {
      "text/plain": [
       "0.6470588235294118"
      ]
     },
     "execution_count": 47,
     "metadata": {},
     "output_type": "execute_result"
    }
   ],
   "source": [
    "accuracy3 = classification_evaluator_Acc.evaluate(lr_pipeline3.transform(testing_df))\n",
    "accuracy3"
   ]
  },
  {
   "cell_type": "code",
   "execution_count": 48,
   "metadata": {},
   "outputs": [
    {
     "data": {
      "text/plain": [
       "0.5687670664390785"
      ]
     },
     "execution_count": 48,
     "metadata": {},
     "output_type": "execute_result"
    }
   ],
   "source": [
    "AUC3 = classification_evaluator.evaluate(lr_pipeline3.transform(testing_df))\n",
    "AUC3"
   ]
  },
  {
   "cell_type": "code",
   "execution_count": 49,
   "metadata": {},
   "outputs": [],
   "source": [
    "classification_evaluator_Precision = MulticlassClassificationEvaluator(labelCol='Class-label',predictionCol=\"prediction\", metricName=\"weightedPrecision\")\n",
    "classification_evaluator_Recall = MulticlassClassificationEvaluator(labelCol='Class-label',predictionCol=\"prediction\", metricName=\"weightedRecall\")\n",
    "classification_evaluator_F1 = MulticlassClassificationEvaluator(labelCol='Class-label',predictionCol=\"prediction\", metricName=\"f1\")"
   ]
  },
  {
   "cell_type": "code",
   "execution_count": 50,
   "metadata": {},
   "outputs": [
    {
     "name": "stdout",
     "output_type": "stream",
     "text": [
      "+----------+-----------+--------------------+\n",
      "|prediction|Class-label|            features|\n",
      "+----------+-----------+--------------------+\n",
      "|       7.0|          1|          (44,[],[])|\n",
      "|       7.0|          6|          (44,[],[])|\n",
      "|       1.0|          1|[0.0306,0.0288,0....|\n",
      "|       1.0|          1|[0.0317,0.0263,0....|\n",
      "|       1.0|          1|[0.0327,0.0289999...|\n",
      "+----------+-----------+--------------------+\n",
      "only showing top 5 rows\n",
      "\n"
     ]
    }
   ],
   "source": [
    "predictions_best = lr_pipeline1.transform(testing_df)\n",
    "predictions_best.select(\"prediction\", \"Class-label\", \"features\").show(5)"
   ]
  },
  {
   "cell_type": "code",
   "execution_count": 51,
   "metadata": {},
   "outputs": [
    {
     "name": "stdout",
     "output_type": "stream",
     "text": [
      "Accuracy of Best LR Model = 0.718954 \n",
      "Area Under Curve of Best LR Model = 0.713309 \n",
      "Precision of Best LR Model = 0.28264 \n",
      "Recall of Best LR Model = 0.718954 \n",
      "F1 score of Best LR Model = 0.713309 \n"
     ]
    }
   ],
   "source": [
    "accuracy_lr_best = classification_evaluator_Acc.evaluate(predictions_best)\n",
    "print(\"Accuracy of Best LR Model = %g \" % accuracy_lr_best)\n",
    "AUC_lr_best = classification_evaluator.evaluate(lr_pipeline1.transform(testing_df))\n",
    "print(\"Area Under Curve of Best LR Model = %g \" % AUC_lr_best)\n",
    "precision_lr_best = classification_evaluator_Precision.evaluate(predictions_best)\n",
    "print(\"Precision of Best LR Model = %g \" % (1.0 - precision_lr_best))\n",
    "recall_lr_best = classification_evaluator_Recall.evaluate(predictions_best)\n",
    "print(\"Recall of Best LR Model = %g \" % recall_lr_best)\n",
    "f1_score_best = classification_evaluator_F1.evaluate(predictions_best)\n",
    "print(\"F1 score of Best LR Model = %g \" % f1_score_best)"
   ]
  },
  {
   "cell_type": "markdown",
   "metadata": {},
   "source": [
    "Kappa Co-efficient = Po- Pe/1-Pe where Observed Agreement is equivalent to Accuracy and Pe is the expected agreement based on randomly agreeing to what land mass it is classified to. \n",
    "\n",
    "Therefore, k = 0.72-0.28/1-0.28 = 0.61."
   ]
  }
 ],
 "metadata": {
  "kernelspec": {
   "display_name": "Python 3",
   "language": "python",
   "name": "python3"
  },
  "language_info": {
   "codemirror_mode": {
    "name": "ipython",
    "version": 3
   },
   "file_extension": ".py",
   "mimetype": "text/x-python",
   "name": "python",
   "nbconvert_exporter": "python",
   "pygments_lexer": "ipython3",
   "version": "3.6.6"
  }
 },
 "nbformat": 4,
 "nbformat_minor": 2
}
