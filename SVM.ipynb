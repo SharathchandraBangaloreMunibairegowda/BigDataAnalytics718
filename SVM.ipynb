{
 "cells": [
  {
   "cell_type": "code",
   "execution_count": 1,
   "metadata": {},
   "outputs": [],
   "source": [
    "import pandas as pd\n",
    "#Plotting capability\n",
    "import matplotlib.pylab as plt\n",
    "# Functionality for computing features\n",
    "from pyspark.ml import feature\n",
    "\n",
    "# Object for creating sequences of transformations\n",
    "from pyspark.ml import Pipeline\n",
    "# Load functionality to manipulate dataframes\n",
    "from pyspark.sql import functions as fn\n",
    "\n",
    "# import packages\n",
    "from pyspark.ml.classification import RandomForestClassifier\n",
    "from pyspark.ml.classification import LogisticRegression\n",
    "from pyspark.ml.evaluation import MulticlassClassificationEvaluator\n",
    "from pyspark.ml.feature import VectorAssembler\n",
    "from pyspark.ml.feature import MaxAbsScaler\n",
    "from pyspark.ml.classification import RandomForestClassifier, LogisticRegression, LinearSVC, OneVsRest, GBTClassifier\n",
    "from pyspark.ml.feature import StringIndexer"
   ]
  },
  {
   "cell_type": "code",
   "execution_count": 2,
   "metadata": {},
   "outputs": [],
   "source": [
    "from pyspark.sql import SparkSession\n",
    "spark = SparkSession.builder.getOrCreate()\n",
    "sc = spark.sparkContext.setSystemProperty('spark.executor.memory', '512g')"
   ]
  },
  {
   "cell_type": "code",
   "execution_count": 4,
   "metadata": {},
   "outputs": [],
   "source": [
    "data = spark.createDataFrame(pd.read_csv(\"Data1.csv\"))"
   ]
  },
  {
   "cell_type": "markdown",
   "metadata": {},
   "source": [
    "# SVM"
   ]
  },
  {
   "cell_type": "code",
   "execution_count": 5,
   "metadata": {},
   "outputs": [],
   "source": [
    "feature_transformer = VectorAssembler(inputCols= [\"S2_B1\", \"S2_B2\", \"S2_B4\", \"S2_B11\", \"S2_B12\", \"ARVI\", \"CI\", \"DVI\", \"GEMI\", \"GNDVI\", \"IPVI\", \"IRECI\", \"MCARI\", \"MSAVI\", \"MSAVI2\", \"NDVI\", \"NDWI2\", \"PSSRA\", \"RI\", \"RVI\", \"SAVI\", \"3_45_9\", \"3_90_12\", \"3_90_63\", \"5_90_21\", \"5_90_62\", \"7_90_15\", \"7_45_19\", \"9_180_12\", \"9_45_97\", \"9_90_11\", \"9_90_59\", \"11_135_1\", \"13_90_59\", \"15_135_97\", \"15_45_1\", \"15_45_19\", \"15_45_59\", \"15_45_81\", \"15_90_13\", \"15_90_31\", \"15_90_59\", \"15_90_64\", \"15_180_59\"], outputCol=\"features\")\n",
    "labelIndexer = StringIndexer(inputCol=\"Class-label\", outputCol=\"label\").setHandleInvalid(\"keep\")\n",
    "feature_df=feature_transformer.transform(data)\n",
    "data_indexed =labelIndexer.fit(feature_df).transform(feature_df)"
   ]
  },
  {
   "cell_type": "code",
   "execution_count": 6,
   "metadata": {},
   "outputs": [],
   "source": [
    "training_df, validation_df, testing_df = data_indexed.randomSplit([0.8, 0.1, 0.1], seed = 100 )"
   ]
  },
  {
   "cell_type": "code",
   "execution_count": 7,
   "metadata": {},
   "outputs": [],
   "source": [
    "svm_estimator = LinearSVC(featuresCol='features',labelCol='label',maxIter=5, regParam=0.01)\n",
    "ovr=OneVsRest(classifier=svm_estimator,labelCol='label').fit(training_df)"
   ]
  },
  {
   "cell_type": "code",
   "execution_count": 15,
   "metadata": {},
   "outputs": [],
   "source": [
    "classification_evaluator = MulticlassClassificationEvaluator(labelCol='label')\n",
    "classification_evaluator_Acc = MulticlassClassificationEvaluator(labelCol='label',predictionCol=\"prediction\", metricName=\"accuracy\")\n",
    "#classification_evaluator = MulticlassClassificationEvaluator(labelCol='label')\n",
    "#accuracy=classification_evaluator.evaluate(predictions)\n",
    "#print(accuracy)"
   ]
  },
  {
   "cell_type": "code",
   "execution_count": 16,
   "metadata": {},
   "outputs": [
    {
     "data": {
      "text/plain": [
       "0.37934904039489253"
      ]
     },
     "execution_count": 16,
     "metadata": {},
     "output_type": "execute_result"
    }
   ],
   "source": [
    "classification_evaluator.evaluate(ovr.transform(validation_df))"
   ]
  },
  {
   "cell_type": "code",
   "execution_count": 17,
   "metadata": {},
   "outputs": [
    {
     "data": {
      "text/plain": [
       "0.44895632449624934"
      ]
     },
     "execution_count": 17,
     "metadata": {},
     "output_type": "execute_result"
    }
   ],
   "source": [
    "AUC1 = classification_evaluator.evaluate(ovr.transform(testing_df))\n",
    "AUC1"
   ]
  },
  {
   "cell_type": "code",
   "execution_count": 18,
   "metadata": {},
   "outputs": [
    {
     "data": {
      "text/plain": [
       "0.565359477124183"
      ]
     },
     "execution_count": 18,
     "metadata": {},
     "output_type": "execute_result"
    }
   ],
   "source": [
    "Accuracy1 = classification_evaluator_Acc.evaluate(ovr.transform(testing_df))\n",
    "Accuracy1"
   ]
  },
  {
   "cell_type": "code",
   "execution_count": 19,
   "metadata": {},
   "outputs": [],
   "source": [
    "svm_estimator1 = LinearSVC(featuresCol='features',labelCol='label',maxIter=50, regParam=0.5)\n",
    "ovr1=OneVsRest(classifier=svm_estimator,labelCol='label').fit(training_df)"
   ]
  },
  {
   "cell_type": "code",
   "execution_count": 20,
   "metadata": {},
   "outputs": [
    {
     "data": {
      "text/plain": [
       "0.37934904039489253"
      ]
     },
     "execution_count": 20,
     "metadata": {},
     "output_type": "execute_result"
    }
   ],
   "source": [
    "classification_evaluator.evaluate(ovr1.transform(validation_df))"
   ]
  },
  {
   "cell_type": "code",
   "execution_count": 21,
   "metadata": {},
   "outputs": [
    {
     "data": {
      "text/plain": [
       "0.44895632449624934"
      ]
     },
     "execution_count": 21,
     "metadata": {},
     "output_type": "execute_result"
    }
   ],
   "source": [
    "AUC2 = classification_evaluator.evaluate(ovr1.transform(testing_df))\n",
    "AUC2"
   ]
  },
  {
   "cell_type": "code",
   "execution_count": 22,
   "metadata": {},
   "outputs": [
    {
     "data": {
      "text/plain": [
       "0.565359477124183"
      ]
     },
     "execution_count": 22,
     "metadata": {},
     "output_type": "execute_result"
    }
   ],
   "source": [
    "Accuracy2 = classification_evaluator_Acc.evaluate(ovr1.transform(testing_df))\n",
    "Accuracy2"
   ]
  },
  {
   "cell_type": "code",
   "execution_count": 23,
   "metadata": {},
   "outputs": [],
   "source": [
    "svm_estimator2 = LinearSVC(featuresCol='features',labelCol='label',maxIter=100, regParam=1)\n",
    "ovr2=OneVsRest(classifier=svm_estimator,labelCol='label').fit(training_df)"
   ]
  },
  {
   "cell_type": "code",
   "execution_count": 28,
   "metadata": {},
   "outputs": [
    {
     "data": {
      "text/plain": [
       "0.37934904039489253"
      ]
     },
     "execution_count": 28,
     "metadata": {},
     "output_type": "execute_result"
    }
   ],
   "source": [
    "classification_evaluator.evaluate(ovr2.transform(validation_df))"
   ]
  },
  {
   "cell_type": "code",
   "execution_count": 26,
   "metadata": {},
   "outputs": [
    {
     "data": {
      "text/plain": [
       "0.44895632449624934"
      ]
     },
     "execution_count": 26,
     "metadata": {},
     "output_type": "execute_result"
    }
   ],
   "source": [
    "AUC3 = classification_evaluator.evaluate(ovr2.transform(testing_df))\n",
    "AUC3"
   ]
  },
  {
   "cell_type": "code",
   "execution_count": 27,
   "metadata": {},
   "outputs": [
    {
     "data": {
      "text/plain": [
       "0.565359477124183"
      ]
     },
     "execution_count": 27,
     "metadata": {},
     "output_type": "execute_result"
    }
   ],
   "source": [
    "Accuracy3 = classification_evaluator_Acc.evaluate(ovr2.transform(testing_df))\n",
    "Accuracy3"
   ]
  }
 ],
 "metadata": {
  "kernelspec": {
   "display_name": "Python 3",
   "language": "python",
   "name": "python3"
  },
  "language_info": {
   "codemirror_mode": {
    "name": "ipython",
    "version": 3
   },
   "file_extension": ".py",
   "mimetype": "text/x-python",
   "name": "python",
   "nbconvert_exporter": "python",
   "pygments_lexer": "ipython3",
   "version": "3.6.6"
  },
  "toc": {
   "base_numbering": 1,
   "nav_menu": {},
   "number_sections": true,
   "sideBar": true,
   "skip_h1_title": false,
   "title_cell": "Table of Contents",
   "title_sidebar": "Contents",
   "toc_cell": false,
   "toc_position": {},
   "toc_section_display": true,
   "toc_window_display": false
  }
 },
 "nbformat": 4,
 "nbformat_minor": 2
}
